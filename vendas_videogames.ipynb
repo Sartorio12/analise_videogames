{
  "cells": [
    {
      "cell_type": "markdown",
      "metadata": {
        "id": "xMSR_4LqtBka"
      },
      "source": [
        "# <center>Análise sobre vendas de jogos pelo mundo durante a história dos videogames\n",
        "\n",
        "---\n",
        "\n",
        "### <center>Uma breve análise exploratória sobre a queda e ascensão de algumas empresas de videogames\n",
        "\n",
        "##### <center>Autor: <a href=\"https://github.com/Sartorio12\" target=\"_blank\">Mateus Burock Sartorio</a></center>"
      ]
    },
    {
      "cell_type": "markdown",
      "metadata": {
        "id": "2bHWu39XuqOT"
      },
      "source": [
        "<center><img src=\"https://i.imgur.com/Vmagj4O.jpg\">"
      ]
    },
    {
      "cell_type": "markdown",
      "metadata": {
        "id": "9nM-jnSctrve"
      },
      "source": [
        "### Introdução"
      ]
    },
    {
      "cell_type": "markdown",
      "metadata": {
        "id": "aNjQIbVVzIY_"
      },
      "source": [
        "Bem, pra começo de conversa, sempre gostei muito de jogar, e com o propósito de praticar, resolvi fazer uma análise de um dataset sobre Jogos, apesar de ser uma análise simples, vou tentar ressaltar todos os pontos interessantes sobre essa base de dados. O conjunto que iremos analisar confere as vendas de jogos do ano de 1980 até o ano de 2020, de diversos consoles lançados.Esse dataset contém uma lista de jogos e videogames com vendas acima de 100,000 unidades. Foi gerado a partir de uma raspagem de dados do site <a href=\"https://www.vgchartz.com/\"><b>vgchartz.com</b></a>. A primeira coisa que precisamos fazer, é importar o arquivo CSV que iremos analisar hoje. Confira abaixo:"
      ]
    },
    {
      "cell_type": "markdown",
      "metadata": {
        "id": "eRwMj_1kzOmf"
      },
      "source": [
        "### Importando as bibliotecas utilizadas"
      ]
    },
    {
      "cell_type": "markdown",
      "metadata": {
        "id": "C8MMCg1zzYNp"
      },
      "source": [
        "Começaremos com o básico para a nossa análise, a importação de bibliotecas fundamentais para que nossa pesquisa ocorra, importando o ***pandas*** e ***numpy***, para a análise do dataset, ***matplotlib*** e ***seaborn*** para a constução de gráficos:"
      ]
    },
    {
      "cell_type": "code",
      "execution_count": 1,
      "metadata": {
        "id": "ih3MOJ4rce-Y"
      },
      "outputs": [],
      "source": [
        "import pandas as pd\n",
        "import numpy as np\n",
        "import matplotlib.pyplot as plt\n",
        "import seaborn as sns"
      ]
    },
    {
      "cell_type": "markdown",
      "metadata": {
        "id": "XmdayHI60O1A"
      },
      "source": [
        "### Lendo o nosso arquivo CSV"
      ]
    },
    {
      "cell_type": "markdown",
      "metadata": {
        "id": "IqtRIBMp0kZT"
      },
      "source": [
        "Aqui vamos puxar a nossa base de dados da internet, faremos nossas análises em cima dela, utilizando o comando do ***pandas*** podemos fazer isso com facilidade, além de transformar um arquivo CSV em um DataFrame, para melhor visualização"
      ]
    },
    {
      "cell_type": "code",
      "execution_count": 2,
      "metadata": {
        "id": "uJZNKqljfJ_f"
      },
      "outputs": [],
      "source": [
        "df = pd.read_csv('./vgsales.csv')"
      ]
    },
    {
      "cell_type": "markdown",
      "metadata": {
        "id": "7STAovEO1DIv"
      },
      "source": [
        "# <center>Tudo tem um começo"
      ]
    },
    {
      "cell_type": "markdown",
      "metadata": {
        "id": "y47wz_lD1PSX"
      },
      "source": [
        "### Limpando e tratando os dados"
      ]
    },
    {
      "cell_type": "markdown",
      "metadata": {
        "id": "LhgZZd_u1bCO"
      },
      "source": [
        "A primeira coisa a se fazer quando analisamos um dataset, é realizar a limpeza e formatação dos dados, para que nossa análise ocorra de forma coesa e sem maiores erros, afinal, imagine só você fazer isso pro seu chefe e ter algum dado incorreto ou incompleto, ele certamente não gostaria né ?"
      ]
    },
    {
      "cell_type": "markdown",
      "metadata": {
        "id": "aJTx0hys17QK"
      },
      "source": [
        "Vamos então a primeira etapa, visualizar como veio nosso DataFrame"
      ]
    },
    {
      "cell_type": "code",
      "execution_count": 3,
      "metadata": {
        "id": "na4bYS6I2CwA"
      },
      "outputs": [
        {
          "data": {
            "text/html": [
              "<div>\n",
              "<style scoped>\n",
              "    .dataframe tbody tr th:only-of-type {\n",
              "        vertical-align: middle;\n",
              "    }\n",
              "\n",
              "    .dataframe tbody tr th {\n",
              "        vertical-align: top;\n",
              "    }\n",
              "\n",
              "    .dataframe thead th {\n",
              "        text-align: right;\n",
              "    }\n",
              "</style>\n",
              "<table border=\"1\" class=\"dataframe\">\n",
              "  <thead>\n",
              "    <tr style=\"text-align: right;\">\n",
              "      <th></th>\n",
              "      <th>Rank</th>\n",
              "      <th>Name</th>\n",
              "      <th>Platform</th>\n",
              "      <th>Year</th>\n",
              "      <th>Genre</th>\n",
              "      <th>Publisher</th>\n",
              "      <th>NA_Sales</th>\n",
              "      <th>EU_Sales</th>\n",
              "      <th>JP_Sales</th>\n",
              "      <th>Other_Sales</th>\n",
              "      <th>Global_Sales</th>\n",
              "    </tr>\n",
              "  </thead>\n",
              "  <tbody>\n",
              "    <tr>\n",
              "      <th>0</th>\n",
              "      <td>1</td>\n",
              "      <td>Wii Sports</td>\n",
              "      <td>Wii</td>\n",
              "      <td>2006.0</td>\n",
              "      <td>Sports</td>\n",
              "      <td>Nintendo</td>\n",
              "      <td>41.49</td>\n",
              "      <td>29.02</td>\n",
              "      <td>3.77</td>\n",
              "      <td>8.46</td>\n",
              "      <td>82.74</td>\n",
              "    </tr>\n",
              "    <tr>\n",
              "      <th>1</th>\n",
              "      <td>2</td>\n",
              "      <td>Super Mario Bros.</td>\n",
              "      <td>NES</td>\n",
              "      <td>1985.0</td>\n",
              "      <td>Platform</td>\n",
              "      <td>Nintendo</td>\n",
              "      <td>29.08</td>\n",
              "      <td>3.58</td>\n",
              "      <td>6.81</td>\n",
              "      <td>0.77</td>\n",
              "      <td>40.24</td>\n",
              "    </tr>\n",
              "    <tr>\n",
              "      <th>2</th>\n",
              "      <td>3</td>\n",
              "      <td>Mario Kart Wii</td>\n",
              "      <td>Wii</td>\n",
              "      <td>2008.0</td>\n",
              "      <td>Racing</td>\n",
              "      <td>Nintendo</td>\n",
              "      <td>15.85</td>\n",
              "      <td>12.88</td>\n",
              "      <td>3.79</td>\n",
              "      <td>3.31</td>\n",
              "      <td>35.82</td>\n",
              "    </tr>\n",
              "    <tr>\n",
              "      <th>3</th>\n",
              "      <td>4</td>\n",
              "      <td>Wii Sports Resort</td>\n",
              "      <td>Wii</td>\n",
              "      <td>2009.0</td>\n",
              "      <td>Sports</td>\n",
              "      <td>Nintendo</td>\n",
              "      <td>15.75</td>\n",
              "      <td>11.01</td>\n",
              "      <td>3.28</td>\n",
              "      <td>2.96</td>\n",
              "      <td>33.00</td>\n",
              "    </tr>\n",
              "    <tr>\n",
              "      <th>4</th>\n",
              "      <td>5</td>\n",
              "      <td>Pokemon Red/Pokemon Blue</td>\n",
              "      <td>GB</td>\n",
              "      <td>1996.0</td>\n",
              "      <td>Role-Playing</td>\n",
              "      <td>Nintendo</td>\n",
              "      <td>11.27</td>\n",
              "      <td>8.89</td>\n",
              "      <td>10.22</td>\n",
              "      <td>1.00</td>\n",
              "      <td>31.37</td>\n",
              "    </tr>\n",
              "    <tr>\n",
              "      <th>...</th>\n",
              "      <td>...</td>\n",
              "      <td>...</td>\n",
              "      <td>...</td>\n",
              "      <td>...</td>\n",
              "      <td>...</td>\n",
              "      <td>...</td>\n",
              "      <td>...</td>\n",
              "      <td>...</td>\n",
              "      <td>...</td>\n",
              "      <td>...</td>\n",
              "      <td>...</td>\n",
              "    </tr>\n",
              "    <tr>\n",
              "      <th>16593</th>\n",
              "      <td>16596</td>\n",
              "      <td>Woody Woodpecker in Crazy Castle 5</td>\n",
              "      <td>GBA</td>\n",
              "      <td>2002.0</td>\n",
              "      <td>Platform</td>\n",
              "      <td>Kemco</td>\n",
              "      <td>0.01</td>\n",
              "      <td>0.00</td>\n",
              "      <td>0.00</td>\n",
              "      <td>0.00</td>\n",
              "      <td>0.01</td>\n",
              "    </tr>\n",
              "    <tr>\n",
              "      <th>16594</th>\n",
              "      <td>16597</td>\n",
              "      <td>Men in Black II: Alien Escape</td>\n",
              "      <td>GC</td>\n",
              "      <td>2003.0</td>\n",
              "      <td>Shooter</td>\n",
              "      <td>Infogrames</td>\n",
              "      <td>0.01</td>\n",
              "      <td>0.00</td>\n",
              "      <td>0.00</td>\n",
              "      <td>0.00</td>\n",
              "      <td>0.01</td>\n",
              "    </tr>\n",
              "    <tr>\n",
              "      <th>16595</th>\n",
              "      <td>16598</td>\n",
              "      <td>SCORE International Baja 1000: The Official Game</td>\n",
              "      <td>PS2</td>\n",
              "      <td>2008.0</td>\n",
              "      <td>Racing</td>\n",
              "      <td>Activision</td>\n",
              "      <td>0.00</td>\n",
              "      <td>0.00</td>\n",
              "      <td>0.00</td>\n",
              "      <td>0.00</td>\n",
              "      <td>0.01</td>\n",
              "    </tr>\n",
              "    <tr>\n",
              "      <th>16596</th>\n",
              "      <td>16599</td>\n",
              "      <td>Know How 2</td>\n",
              "      <td>DS</td>\n",
              "      <td>2010.0</td>\n",
              "      <td>Puzzle</td>\n",
              "      <td>7G//AMES</td>\n",
              "      <td>0.00</td>\n",
              "      <td>0.01</td>\n",
              "      <td>0.00</td>\n",
              "      <td>0.00</td>\n",
              "      <td>0.01</td>\n",
              "    </tr>\n",
              "    <tr>\n",
              "      <th>16597</th>\n",
              "      <td>16600</td>\n",
              "      <td>Spirits &amp; Spells</td>\n",
              "      <td>GBA</td>\n",
              "      <td>2003.0</td>\n",
              "      <td>Platform</td>\n",
              "      <td>Wanadoo</td>\n",
              "      <td>0.01</td>\n",
              "      <td>0.00</td>\n",
              "      <td>0.00</td>\n",
              "      <td>0.00</td>\n",
              "      <td>0.01</td>\n",
              "    </tr>\n",
              "  </tbody>\n",
              "</table>\n",
              "<p>16598 rows × 11 columns</p>\n",
              "</div>"
            ],
            "text/plain": [
              "        Rank                                              Name Platform  \\\n",
              "0          1                                        Wii Sports      Wii   \n",
              "1          2                                 Super Mario Bros.      NES   \n",
              "2          3                                    Mario Kart Wii      Wii   \n",
              "3          4                                 Wii Sports Resort      Wii   \n",
              "4          5                          Pokemon Red/Pokemon Blue       GB   \n",
              "...      ...                                               ...      ...   \n",
              "16593  16596                Woody Woodpecker in Crazy Castle 5      GBA   \n",
              "16594  16597                     Men in Black II: Alien Escape       GC   \n",
              "16595  16598  SCORE International Baja 1000: The Official Game      PS2   \n",
              "16596  16599                                        Know How 2       DS   \n",
              "16597  16600                                  Spirits & Spells      GBA   \n",
              "\n",
              "         Year         Genre   Publisher  NA_Sales  EU_Sales  JP_Sales  \\\n",
              "0      2006.0        Sports    Nintendo     41.49     29.02      3.77   \n",
              "1      1985.0      Platform    Nintendo     29.08      3.58      6.81   \n",
              "2      2008.0        Racing    Nintendo     15.85     12.88      3.79   \n",
              "3      2009.0        Sports    Nintendo     15.75     11.01      3.28   \n",
              "4      1996.0  Role-Playing    Nintendo     11.27      8.89     10.22   \n",
              "...       ...           ...         ...       ...       ...       ...   \n",
              "16593  2002.0      Platform       Kemco      0.01      0.00      0.00   \n",
              "16594  2003.0       Shooter  Infogrames      0.01      0.00      0.00   \n",
              "16595  2008.0        Racing  Activision      0.00      0.00      0.00   \n",
              "16596  2010.0        Puzzle    7G//AMES      0.00      0.01      0.00   \n",
              "16597  2003.0      Platform     Wanadoo      0.01      0.00      0.00   \n",
              "\n",
              "       Other_Sales  Global_Sales  \n",
              "0             8.46         82.74  \n",
              "1             0.77         40.24  \n",
              "2             3.31         35.82  \n",
              "3             2.96         33.00  \n",
              "4             1.00         31.37  \n",
              "...            ...           ...  \n",
              "16593         0.00          0.01  \n",
              "16594         0.00          0.01  \n",
              "16595         0.00          0.01  \n",
              "16596         0.00          0.01  \n",
              "16597         0.00          0.01  \n",
              "\n",
              "[16598 rows x 11 columns]"
            ]
          },
          "execution_count": 3,
          "metadata": {},
          "output_type": "execute_result"
        }
      ],
      "source": [
        "df"
      ]
    },
    {
      "cell_type": "markdown",
      "metadata": {
        "id": "wUPyXDvx2G4Q"
      },
      "source": [
        "De cara, podemos notar que os nomes das colunas estão em inglês, vamos traduzir essas colunas para nosso idioma utilizando o comando ***.columns*** do ***pandas***. Podemos utilizar o ***columns*** também para alterar uma coluna específica passando os atributos, mas como queremos alterar todas elas, faremos direto dessa vez."
      ]
    },
    {
      "cell_type": "code",
      "execution_count": 4,
      "metadata": {
        "id": "sMYRzLAlSpiW"
      },
      "outputs": [],
      "source": [
        "df.columns = ['Ranking', 'Nome', 'Console', 'Ano','Gênero', 'Editora', 'Vendas América do Norte', 'Vendas EUA','Vendas Japão',\n",
        "              'Outras vendas', 'Vendas Global']\n",
        "\n",
        "df['Gênero'] = df['Gênero'].replace({'Action':'Ação','Adventure':'Aventura','Fighting':'Luta','Platform':'Plataforma','Racing':'Corrida',\n",
        "'Role-Playing':'RPG','Shooter':'Tiro','Simulation':'Simulação','Sports':'Esporte','Strategy':'Estratégia'})"
      ]
    },
    {
      "cell_type": "markdown",
      "metadata": {},
      "source": [
        "Logo em seguida, faremos uma breve análise sobre os tipos de dados com os quais estamos trabalhando, podemos perceber que estão todos corretos e já prontos para serem tratados."
      ]
    },
    {
      "cell_type": "code",
      "execution_count": 5,
      "metadata": {
        "colab": {
          "base_uri": "https://localhost:8080/"
        },
        "id": "AVblps6vQwSW",
        "outputId": "94014584-461f-4c2d-ad0a-b932df7abd05"
      },
      "outputs": [
        {
          "data": {
            "text/plain": [
              "Ranking                      int64\n",
              "Nome                        object\n",
              "Console                     object\n",
              "Ano                        float64\n",
              "Gênero                      object\n",
              "Editora                     object\n",
              "Vendas América do Norte    float64\n",
              "Vendas EUA                 float64\n",
              "Vendas Japão               float64\n",
              "Outras vendas              float64\n",
              "Vendas Global              float64\n",
              "dtype: object"
            ]
          },
          "execution_count": 5,
          "metadata": {},
          "output_type": "execute_result"
        }
      ],
      "source": [
        "df.dtypes"
      ]
    },
    {
      "cell_type": "markdown",
      "metadata": {},
      "source": [
        "A função ***describe()*** traz informações importantes sobre nossos dados, que podem ser usados para gerar estatísticas, por exemplo. Verifique que cada linha da tabela mostra um dado diferente. Na primeira nós temos a **count**, que realiza uma contagem dos valores existentes no conjunto de dados; a segunda linha **— std**, ou *standard deviation* — traz o desvio padrão dos valores; em seguida temos os valores **mínimos**, **quartis** e valores **máximos** de cada coluna."
      ]
    },
    {
      "cell_type": "code",
      "execution_count": 6,
      "metadata": {
        "id": "Ms8zFwjJlbsW"
      },
      "outputs": [
        {
          "data": {
            "text/html": [
              "<div>\n",
              "<style scoped>\n",
              "    .dataframe tbody tr th:only-of-type {\n",
              "        vertical-align: middle;\n",
              "    }\n",
              "\n",
              "    .dataframe tbody tr th {\n",
              "        vertical-align: top;\n",
              "    }\n",
              "\n",
              "    .dataframe thead th {\n",
              "        text-align: right;\n",
              "    }\n",
              "</style>\n",
              "<table border=\"1\" class=\"dataframe\">\n",
              "  <thead>\n",
              "    <tr style=\"text-align: right;\">\n",
              "      <th></th>\n",
              "      <th>Ranking</th>\n",
              "      <th>Ano</th>\n",
              "      <th>Vendas América do Norte</th>\n",
              "      <th>Vendas EUA</th>\n",
              "      <th>Vendas Japão</th>\n",
              "      <th>Outras vendas</th>\n",
              "      <th>Vendas Global</th>\n",
              "    </tr>\n",
              "  </thead>\n",
              "  <tbody>\n",
              "    <tr>\n",
              "      <th>count</th>\n",
              "      <td>16598.000000</td>\n",
              "      <td>16327.000000</td>\n",
              "      <td>16598.000000</td>\n",
              "      <td>16598.000000</td>\n",
              "      <td>16598.000000</td>\n",
              "      <td>16598.000000</td>\n",
              "      <td>16598.000000</td>\n",
              "    </tr>\n",
              "    <tr>\n",
              "      <th>mean</th>\n",
              "      <td>8300.605254</td>\n",
              "      <td>2006.406443</td>\n",
              "      <td>0.264667</td>\n",
              "      <td>0.146652</td>\n",
              "      <td>0.077782</td>\n",
              "      <td>0.048063</td>\n",
              "      <td>0.537441</td>\n",
              "    </tr>\n",
              "    <tr>\n",
              "      <th>std</th>\n",
              "      <td>4791.853933</td>\n",
              "      <td>5.828981</td>\n",
              "      <td>0.816683</td>\n",
              "      <td>0.505351</td>\n",
              "      <td>0.309291</td>\n",
              "      <td>0.188588</td>\n",
              "      <td>1.555028</td>\n",
              "    </tr>\n",
              "    <tr>\n",
              "      <th>min</th>\n",
              "      <td>1.000000</td>\n",
              "      <td>1980.000000</td>\n",
              "      <td>0.000000</td>\n",
              "      <td>0.000000</td>\n",
              "      <td>0.000000</td>\n",
              "      <td>0.000000</td>\n",
              "      <td>0.010000</td>\n",
              "    </tr>\n",
              "    <tr>\n",
              "      <th>25%</th>\n",
              "      <td>4151.250000</td>\n",
              "      <td>2003.000000</td>\n",
              "      <td>0.000000</td>\n",
              "      <td>0.000000</td>\n",
              "      <td>0.000000</td>\n",
              "      <td>0.000000</td>\n",
              "      <td>0.060000</td>\n",
              "    </tr>\n",
              "    <tr>\n",
              "      <th>50%</th>\n",
              "      <td>8300.500000</td>\n",
              "      <td>2007.000000</td>\n",
              "      <td>0.080000</td>\n",
              "      <td>0.020000</td>\n",
              "      <td>0.000000</td>\n",
              "      <td>0.010000</td>\n",
              "      <td>0.170000</td>\n",
              "    </tr>\n",
              "    <tr>\n",
              "      <th>75%</th>\n",
              "      <td>12449.750000</td>\n",
              "      <td>2010.000000</td>\n",
              "      <td>0.240000</td>\n",
              "      <td>0.110000</td>\n",
              "      <td>0.040000</td>\n",
              "      <td>0.040000</td>\n",
              "      <td>0.470000</td>\n",
              "    </tr>\n",
              "    <tr>\n",
              "      <th>max</th>\n",
              "      <td>16600.000000</td>\n",
              "      <td>2020.000000</td>\n",
              "      <td>41.490000</td>\n",
              "      <td>29.020000</td>\n",
              "      <td>10.220000</td>\n",
              "      <td>10.570000</td>\n",
              "      <td>82.740000</td>\n",
              "    </tr>\n",
              "  </tbody>\n",
              "</table>\n",
              "</div>"
            ],
            "text/plain": [
              "            Ranking           Ano  Vendas América do Norte    Vendas EUA  \\\n",
              "count  16598.000000  16327.000000             16598.000000  16598.000000   \n",
              "mean    8300.605254   2006.406443                 0.264667      0.146652   \n",
              "std     4791.853933      5.828981                 0.816683      0.505351   \n",
              "min        1.000000   1980.000000                 0.000000      0.000000   \n",
              "25%     4151.250000   2003.000000                 0.000000      0.000000   \n",
              "50%     8300.500000   2007.000000                 0.080000      0.020000   \n",
              "75%    12449.750000   2010.000000                 0.240000      0.110000   \n",
              "max    16600.000000   2020.000000                41.490000     29.020000   \n",
              "\n",
              "       Vendas Japão  Outras vendas  Vendas Global  \n",
              "count  16598.000000   16598.000000   16598.000000  \n",
              "mean       0.077782       0.048063       0.537441  \n",
              "std        0.309291       0.188588       1.555028  \n",
              "min        0.000000       0.000000       0.010000  \n",
              "25%        0.000000       0.000000       0.060000  \n",
              "50%        0.000000       0.010000       0.170000  \n",
              "75%        0.040000       0.040000       0.470000  \n",
              "max       10.220000      10.570000      82.740000  "
            ]
          },
          "execution_count": 6,
          "metadata": {},
          "output_type": "execute_result"
        }
      ],
      "source": [
        "df.describe()"
      ]
    },
    {
      "cell_type": "markdown",
      "metadata": {},
      "source": [
        "Em seguida, uma verificação básica, pra saber qual é o tamanho do nosso DataFrame, o comando *.shape* nos mostra quantas **linhas** e **colunas** temos, respectivamente. Com o comando abaixo, dá pra perceber que temos *16598 linhas* e *11 colunas*."
      ]
    },
    {
      "cell_type": "code",
      "execution_count": 7,
      "metadata": {
        "id": "p0d5CVVkSlzj"
      },
      "outputs": [
        {
          "data": {
            "text/plain": [
              "(16598, 11)"
            ]
          },
          "execution_count": 7,
          "metadata": {},
          "output_type": "execute_result"
        }
      ],
      "source": [
        "df.shape"
      ]
    },
    {
      "cell_type": "markdown",
      "metadata": {},
      "source": [
        "Dentro desse DataFrame, nós temos alguns campos que estão sem informação, como podemos ver abaixo, temos *271* registros nulos na tabela Ano e *58* registros nulos na coluna Editora, com viés de facilitar a nossa análise, deixaremos os dados nulos nesses campos, pois eles não influenciarão em nossa pesquisa no momento."
      ]
    },
    {
      "cell_type": "code",
      "execution_count": 8,
      "metadata": {
        "id": "cctom32qoWGd"
      },
      "outputs": [
        {
          "data": {
            "text/plain": [
              "Ranking                      0\n",
              "Nome                         0\n",
              "Console                      0\n",
              "Ano                        271\n",
              "Gênero                       0\n",
              "Editora                     58\n",
              "Vendas América do Norte      0\n",
              "Vendas EUA                   0\n",
              "Vendas Japão                 0\n",
              "Outras vendas                0\n",
              "Vendas Global                0\n",
              "dtype: int64"
            ]
          },
          "execution_count": 8,
          "metadata": {},
          "output_type": "execute_result"
        }
      ],
      "source": [
        "df.isna().sum()"
      ]
    },
    {
      "cell_type": "markdown",
      "metadata": {},
      "source": [
        "Após esses procedimentos, realizamos a limpeza dos dados e fizemos uma breve análise deles, verificando o que seria possível e o que não seria. A partir de agora, realizaremos uma análise mais aprofundadas, criaremos filtros e gráficos para demonstrar como esses dados se comportam, e vamos também extrair informações importantes dele."
      ]
    },
    {
      "cell_type": "markdown",
      "metadata": {},
      "source": [
        "# <center>Análise exploratórias dos dados"
      ]
    },
    {
      "cell_type": "markdown",
      "metadata": {},
      "source": [
        "### Criando filtros de pesquisa"
      ]
    },
    {
      "cell_type": "markdown",
      "metadata": {},
      "source": [
        "Quando se visualiza um DataFrame sem criar filtros, vemos todas as informações que ele contém, porém para que se extraia alguma informação mais precisa dele, torna-se necessário a criação de um filtro baseado no que você quer saber. Vamos a alguns exemplos abaixo:"
      ]
    },
    {
      "cell_type": "code",
      "execution_count": 21,
      "metadata": {},
      "outputs": [
        {
          "data": {
            "text/html": [
              "<div>\n",
              "<style scoped>\n",
              "    .dataframe tbody tr th:only-of-type {\n",
              "        vertical-align: middle;\n",
              "    }\n",
              "\n",
              "    .dataframe tbody tr th {\n",
              "        vertical-align: top;\n",
              "    }\n",
              "\n",
              "    .dataframe thead th {\n",
              "        text-align: right;\n",
              "    }\n",
              "</style>\n",
              "<table border=\"1\" class=\"dataframe\">\n",
              "  <thead>\n",
              "    <tr style=\"text-align: right;\">\n",
              "      <th>Gênero</th>\n",
              "      <th>Aventura</th>\n",
              "      <th>Ação</th>\n",
              "      <th>Corrida</th>\n",
              "      <th>Esporte</th>\n",
              "      <th>Estratégia</th>\n",
              "      <th>Luta</th>\n",
              "      <th>Misc</th>\n",
              "      <th>Plataforma</th>\n",
              "      <th>Puzzle</th>\n",
              "      <th>RPG</th>\n",
              "      <th>Simulação</th>\n",
              "      <th>Tiro</th>\n",
              "      <th>Total</th>\n",
              "    </tr>\n",
              "    <tr>\n",
              "      <th>Console</th>\n",
              "      <th></th>\n",
              "      <th></th>\n",
              "      <th></th>\n",
              "      <th></th>\n",
              "      <th></th>\n",
              "      <th></th>\n",
              "      <th></th>\n",
              "      <th></th>\n",
              "      <th></th>\n",
              "      <th></th>\n",
              "      <th></th>\n",
              "      <th></th>\n",
              "      <th></th>\n",
              "    </tr>\n",
              "  </thead>\n",
              "  <tbody>\n",
              "    <tr>\n",
              "      <th>DS</th>\n",
              "      <td>240</td>\n",
              "      <td>343</td>\n",
              "      <td>67</td>\n",
              "      <td>148</td>\n",
              "      <td>79</td>\n",
              "      <td>36</td>\n",
              "      <td>393</td>\n",
              "      <td>92</td>\n",
              "      <td>238</td>\n",
              "      <td>200</td>\n",
              "      <td>285</td>\n",
              "      <td>42</td>\n",
              "      <td>2163</td>\n",
              "    </tr>\n",
              "    <tr>\n",
              "      <th>PSP</th>\n",
              "      <td>213</td>\n",
              "      <td>222</td>\n",
              "      <td>65</td>\n",
              "      <td>135</td>\n",
              "      <td>60</td>\n",
              "      <td>74</td>\n",
              "      <td>106</td>\n",
              "      <td>36</td>\n",
              "      <td>44</td>\n",
              "      <td>192</td>\n",
              "      <td>29</td>\n",
              "      <td>37</td>\n",
              "      <td>1213</td>\n",
              "    </tr>\n",
              "    <tr>\n",
              "      <th>PS2</th>\n",
              "      <td>196</td>\n",
              "      <td>348</td>\n",
              "      <td>216</td>\n",
              "      <td>400</td>\n",
              "      <td>71</td>\n",
              "      <td>150</td>\n",
              "      <td>222</td>\n",
              "      <td>103</td>\n",
              "      <td>18</td>\n",
              "      <td>187</td>\n",
              "      <td>90</td>\n",
              "      <td>160</td>\n",
              "      <td>2161</td>\n",
              "    </tr>\n",
              "    <tr>\n",
              "      <th>PS3</th>\n",
              "      <td>74</td>\n",
              "      <td>380</td>\n",
              "      <td>92</td>\n",
              "      <td>213</td>\n",
              "      <td>24</td>\n",
              "      <td>76</td>\n",
              "      <td>124</td>\n",
              "      <td>37</td>\n",
              "      <td>3</td>\n",
              "      <td>119</td>\n",
              "      <td>31</td>\n",
              "      <td>156</td>\n",
              "      <td>1329</td>\n",
              "    </tr>\n",
              "    <tr>\n",
              "      <th>PC</th>\n",
              "      <td>65</td>\n",
              "      <td>165</td>\n",
              "      <td>60</td>\n",
              "      <td>49</td>\n",
              "      <td>188</td>\n",
              "      <td>6</td>\n",
              "      <td>24</td>\n",
              "      <td>11</td>\n",
              "      <td>25</td>\n",
              "      <td>104</td>\n",
              "      <td>115</td>\n",
              "      <td>148</td>\n",
              "      <td>960</td>\n",
              "    </tr>\n",
              "  </tbody>\n",
              "</table>\n",
              "</div>"
            ],
            "text/plain": [
              "Gênero   Aventura  Ação  Corrida  Esporte  Estratégia  Luta  Misc  Plataforma  \\\n",
              "Console                                                                         \n",
              "DS            240   343       67      148          79    36   393          92   \n",
              "PSP           213   222       65      135          60    74   106          36   \n",
              "PS2           196   348      216      400          71   150   222         103   \n",
              "PS3            74   380       92      213          24    76   124          37   \n",
              "PC             65   165       60       49         188     6    24          11   \n",
              "\n",
              "Gênero   Puzzle  RPG  Simulação  Tiro  Total  \n",
              "Console                                       \n",
              "DS          238  200        285    42   2163  \n",
              "PSP          44  192         29    37   1213  \n",
              "PS2          18  187         90   160   2161  \n",
              "PS3           3  119         31   156   1329  \n",
              "PC           25  104        115   148    960  "
            ]
          },
          "execution_count": 21,
          "metadata": {},
          "output_type": "execute_result"
        }
      ],
      "source": [
        "crosstab_vg = pd.crosstab(df['Console'],df['Gênero'])\n",
        "crosstab_vg['Total'] = crosstab_vg.sum(axis=1)\n",
        "crosstab_vg.sort_values('RPG', ascending=False).head(5)"
      ]
    },
    {
      "cell_type": "markdown",
      "metadata": {},
      "source": [
        "\n",
        "\n",
        "No exemplo acima, podemos perceber que foi criado um tipo de filtro que exibe os consoles e a quantidade de jogos separados por gênero que foram lançados para a plataforma, isso é útil para que possamos ver qual foi a plataforma com mais jogos lançados, que nesse caso foi o ***NintendoDS***, com ***2163*** títulos lançados até o ano de 2020.\n",
        "\n",
        "Aqui utilizamos alguns métodos para manipular o DataFrame ao nosso favor, como o método *crosstab,sum* e *sort_values*. \n",
        "\n",
        "#### ***\"Mas o que é isso ? Nunca vi isso na minha vida\"***\n",
        "\n",
        "- Então, basicamente o método *crosstab* faz com que você possa agrupar duas variáveis diferentes ​​e realizar cálculos de um determinado valor para cada grupo. É claro que essas operações são possíveis usando *groupby()* ou *pivot_table()*, mas como veremos mais adiante, o *crosstab()* apresenta vários benefícios ao seu fluxo de trabalho, como a praticidade e economia de processamento.\n",
        "\n",
        "- O método ***sum()*** realiza para nós a soma de variáveis dentro do DataFrame, nesse caso, a soma do eixo 1 (***axis=1***), que corresponde as nossas linhas criadas, basicamente ele vai somar a quantia de jogos de cada gênero, e em uma última coluna, retornar o valor total da soma.\n",
        "\n",
        "- ***sort_values()*** faz com que os valores fiquem ordenados, lembrando que ele sempre precisa ter algum parâmetro dentro, sendo que esse parâmetro na maioria das vezes será a coluna a qual você quer ordenar *(do maior pro menor ou vice-versa)*.\n",
        "\n"
      ]
    },
    {
      "cell_type": "markdown",
      "metadata": {},
      "source": [
        "***Agora vamos criar um filtro de pesquisa diferenciado, você certamente tem seu jogo favorito, e se você quisesse saber quantos jogos a sua franquia favorita vendeu ?***\n",
        "\n",
        "Podemos criar um filtro específico para isso usando o comando ***str.contains()***, que vai retornar pra gente todas as células em uma coluna específica do DataFrame que contém o nome pesquisado.\n",
        "\n",
        "No exemplo abaixo, fiz com a franquia *\"Kingdom Hearts\"*, listando todos os jogos lançados de 2000 a 2014, com seus respectivos valores arrecadados em vendas pelo mundo inteiro.\n",
        "\n",
        "Também criei uma cópia de nosso DataFrame original, para que quaisquiser alterações não implicassem em nossa pesquisa base."
      ]
    },
    {
      "cell_type": "code",
      "execution_count": 10,
      "metadata": {},
      "outputs": [
        {
          "data": {
            "text/html": [
              "<div>\n",
              "<style scoped>\n",
              "    .dataframe tbody tr th:only-of-type {\n",
              "        vertical-align: middle;\n",
              "    }\n",
              "\n",
              "    .dataframe tbody tr th {\n",
              "        vertical-align: top;\n",
              "    }\n",
              "\n",
              "    .dataframe thead th {\n",
              "        text-align: right;\n",
              "    }\n",
              "</style>\n",
              "<table border=\"1\" class=\"dataframe\">\n",
              "  <thead>\n",
              "    <tr style=\"text-align: right;\">\n",
              "      <th></th>\n",
              "      <th>Ranking</th>\n",
              "      <th>Nome</th>\n",
              "      <th>Console</th>\n",
              "      <th>Ano</th>\n",
              "      <th>Gênero</th>\n",
              "      <th>Editora</th>\n",
              "      <th>Vendas América do Norte</th>\n",
              "      <th>Vendas EUA</th>\n",
              "      <th>Vendas Japão</th>\n",
              "      <th>Outras vendas</th>\n",
              "      <th>Vendas Global</th>\n",
              "    </tr>\n",
              "  </thead>\n",
              "  <tbody>\n",
              "    <tr>\n",
              "      <th>131</th>\n",
              "      <td>132</td>\n",
              "      <td>Kingdom Hearts</td>\n",
              "      <td>PS2</td>\n",
              "      <td>2002.0</td>\n",
              "      <td>RPG</td>\n",
              "      <td>Sony Computer Entertainment</td>\n",
              "      <td>3.64</td>\n",
              "      <td>1.20</td>\n",
              "      <td>1.49</td>\n",
              "      <td>0.07</td>\n",
              "      <td>6.40</td>\n",
              "    </tr>\n",
              "    <tr>\n",
              "      <th>255</th>\n",
              "      <td>256</td>\n",
              "      <td>Kingdom Hearts II</td>\n",
              "      <td>PS2</td>\n",
              "      <td>2005.0</td>\n",
              "      <td>RPG</td>\n",
              "      <td>Square Enix</td>\n",
              "      <td>2.20</td>\n",
              "      <td>0.58</td>\n",
              "      <td>1.38</td>\n",
              "      <td>0.17</td>\n",
              "      <td>4.33</td>\n",
              "    </tr>\n",
              "    <tr>\n",
              "      <th>809</th>\n",
              "      <td>811</td>\n",
              "      <td>Kingdom Hearts: Birth by Sleep</td>\n",
              "      <td>PSP</td>\n",
              "      <td>2010.0</td>\n",
              "      <td>RPG</td>\n",
              "      <td>Square Enix</td>\n",
              "      <td>0.63</td>\n",
              "      <td>0.42</td>\n",
              "      <td>0.75</td>\n",
              "      <td>0.26</td>\n",
              "      <td>2.07</td>\n",
              "    </tr>\n",
              "    <tr>\n",
              "      <th>829</th>\n",
              "      <td>831</td>\n",
              "      <td>Kingdom Hearts 358/2 Days</td>\n",
              "      <td>DS</td>\n",
              "      <td>2009.0</td>\n",
              "      <td>RPG</td>\n",
              "      <td>Square Enix</td>\n",
              "      <td>1.11</td>\n",
              "      <td>0.27</td>\n",
              "      <td>0.53</td>\n",
              "      <td>0.14</td>\n",
              "      <td>2.04</td>\n",
              "    </tr>\n",
              "    <tr>\n",
              "      <th>937</th>\n",
              "      <td>939</td>\n",
              "      <td>Kingdom Hearts: Chain of Memories</td>\n",
              "      <td>GBA</td>\n",
              "      <td>2004.0</td>\n",
              "      <td>RPG</td>\n",
              "      <td>Square Enix</td>\n",
              "      <td>1.26</td>\n",
              "      <td>0.18</td>\n",
              "      <td>0.35</td>\n",
              "      <td>0.06</td>\n",
              "      <td>1.85</td>\n",
              "    </tr>\n",
              "    <tr>\n",
              "      <th>1004</th>\n",
              "      <td>1006</td>\n",
              "      <td>Kingdom Hearts</td>\n",
              "      <td>PS3</td>\n",
              "      <td>2013.0</td>\n",
              "      <td>RPG</td>\n",
              "      <td>Square Enix</td>\n",
              "      <td>0.90</td>\n",
              "      <td>0.37</td>\n",
              "      <td>0.25</td>\n",
              "      <td>0.24</td>\n",
              "      <td>1.75</td>\n",
              "    </tr>\n",
              "    <tr>\n",
              "      <th>1176</th>\n",
              "      <td>1178</td>\n",
              "      <td>Kingdom Hearts 3D: Dream Drop Distance</td>\n",
              "      <td>3DS</td>\n",
              "      <td>2012.0</td>\n",
              "      <td>Ação</td>\n",
              "      <td>Square Enix</td>\n",
              "      <td>0.88</td>\n",
              "      <td>0.26</td>\n",
              "      <td>0.34</td>\n",
              "      <td>0.09</td>\n",
              "      <td>1.58</td>\n",
              "    </tr>\n",
              "    <tr>\n",
              "      <th>1487</th>\n",
              "      <td>1489</td>\n",
              "      <td>Kingdom Hearts II</td>\n",
              "      <td>PS3</td>\n",
              "      <td>2014.0</td>\n",
              "      <td>RPG</td>\n",
              "      <td>Square Enix</td>\n",
              "      <td>0.52</td>\n",
              "      <td>0.43</td>\n",
              "      <td>0.18</td>\n",
              "      <td>0.19</td>\n",
              "      <td>1.32</td>\n",
              "    </tr>\n",
              "    <tr>\n",
              "      <th>2115</th>\n",
              "      <td>2117</td>\n",
              "      <td>Kingdom Hearts Re:coded</td>\n",
              "      <td>DS</td>\n",
              "      <td>2010.0</td>\n",
              "      <td>RPG</td>\n",
              "      <td>Square Enix</td>\n",
              "      <td>0.56</td>\n",
              "      <td>0.10</td>\n",
              "      <td>0.27</td>\n",
              "      <td>0.05</td>\n",
              "      <td>0.98</td>\n",
              "    </tr>\n",
              "    <tr>\n",
              "      <th>2385</th>\n",
              "      <td>2387</td>\n",
              "      <td>Kingdom Hearts Re: Chain of Memories</td>\n",
              "      <td>PS2</td>\n",
              "      <td>2008.0</td>\n",
              "      <td>RPG</td>\n",
              "      <td>Square Enix</td>\n",
              "      <td>0.73</td>\n",
              "      <td>0.03</td>\n",
              "      <td>0.00</td>\n",
              "      <td>0.12</td>\n",
              "      <td>0.87</td>\n",
              "    </tr>\n",
              "    <tr>\n",
              "      <th>8693</th>\n",
              "      <td>8695</td>\n",
              "      <td>Kingdom Hearts: Birth by Sleep - Final Mix</td>\n",
              "      <td>PSP</td>\n",
              "      <td>2011.0</td>\n",
              "      <td>RPG</td>\n",
              "      <td>Square Enix</td>\n",
              "      <td>0.00</td>\n",
              "      <td>0.00</td>\n",
              "      <td>0.16</td>\n",
              "      <td>0.00</td>\n",
              "      <td>0.16</td>\n",
              "    </tr>\n",
              "  </tbody>\n",
              "</table>\n",
              "</div>"
            ],
            "text/plain": [
              "      Ranking                                        Nome Console     Ano  \\\n",
              "131       132                              Kingdom Hearts     PS2  2002.0   \n",
              "255       256                           Kingdom Hearts II     PS2  2005.0   \n",
              "809       811              Kingdom Hearts: Birth by Sleep     PSP  2010.0   \n",
              "829       831                   Kingdom Hearts 358/2 Days      DS  2009.0   \n",
              "937       939           Kingdom Hearts: Chain of Memories     GBA  2004.0   \n",
              "1004     1006                              Kingdom Hearts     PS3  2013.0   \n",
              "1176     1178      Kingdom Hearts 3D: Dream Drop Distance     3DS  2012.0   \n",
              "1487     1489                           Kingdom Hearts II     PS3  2014.0   \n",
              "2115     2117                     Kingdom Hearts Re:coded      DS  2010.0   \n",
              "2385     2387        Kingdom Hearts Re: Chain of Memories     PS2  2008.0   \n",
              "8693     8695  Kingdom Hearts: Birth by Sleep - Final Mix     PSP  2011.0   \n",
              "\n",
              "     Gênero                      Editora  Vendas América do Norte  Vendas EUA  \\\n",
              "131     RPG  Sony Computer Entertainment                     3.64        1.20   \n",
              "255     RPG                  Square Enix                     2.20        0.58   \n",
              "809     RPG                  Square Enix                     0.63        0.42   \n",
              "829     RPG                  Square Enix                     1.11        0.27   \n",
              "937     RPG                  Square Enix                     1.26        0.18   \n",
              "1004    RPG                  Square Enix                     0.90        0.37   \n",
              "1176   Ação                  Square Enix                     0.88        0.26   \n",
              "1487    RPG                  Square Enix                     0.52        0.43   \n",
              "2115    RPG                  Square Enix                     0.56        0.10   \n",
              "2385    RPG                  Square Enix                     0.73        0.03   \n",
              "8693    RPG                  Square Enix                     0.00        0.00   \n",
              "\n",
              "      Vendas Japão  Outras vendas  Vendas Global  \n",
              "131           1.49           0.07           6.40  \n",
              "255           1.38           0.17           4.33  \n",
              "809           0.75           0.26           2.07  \n",
              "829           0.53           0.14           2.04  \n",
              "937           0.35           0.06           1.85  \n",
              "1004          0.25           0.24           1.75  \n",
              "1176          0.34           0.09           1.58  \n",
              "1487          0.18           0.19           1.32  \n",
              "2115          0.27           0.05           0.98  \n",
              "2385          0.00           0.12           0.87  \n",
              "8693          0.16           0.00           0.16  "
            ]
          },
          "execution_count": 10,
          "metadata": {},
          "output_type": "execute_result"
        }
      ],
      "source": [
        "df2 = df.copy() # Aqui eu criei uma cópia do DataFrame original\n",
        "\n",
        "df2 = df[df['Nome'].str.contains('Kingdom Hearts', na = False)] # Aqui eu criei um filtro de pesquisa baseado em uma string\n",
        "sorted_df = df2.sort_values(by=['Vendas Global'], ascending=False) # Aqui eu determinei que queria os resultados organizados pelo valor total de vendas\n",
        "sorted_df"
      ]
    },
    {
      "cell_type": "markdown",
      "metadata": {},
      "source": [
        "### Criando gráficos"
      ]
    },
    {
      "cell_type": "markdown",
      "metadata": {},
      "source": [
        "#### Gráficos de barra"
      ]
    },
    {
      "cell_type": "markdown",
      "metadata": {},
      "source": [
        "Sabemos que criando filtros, já temos uma forma de filtrar nossos dados ao que nos interessa, porém, e se a gente melhorasse isso ainda mais? **(sim, dá pra melhorar sempre)** \n",
        "\n",
        "Uma excelente forma de conseguir visualizar dados é por meio de *gráficos*, fazemos isso com as bibliotecas *matplotlib* e *seaborn*.\n",
        "\n",
        "No exemplo abaixo, veremos como se destacam os 10 consoles com mais títulos lançados no período demonstrado no DataFrame original."
      ]
    },
    {
      "cell_type": "code",
      "execution_count": 11,
      "metadata": {
        "id": "J3dnKF4CowmD"
      },
      "outputs": [
        {
          "data": {
            "image/png": "[encoded data removed]",
            "text/plain": [
              "<Figure size 792x432 with 1 Axes>"
            ]
          },
          "metadata": {
            "needs_background": "light"
          },
          "output_type": "display_data"
        }
      ],
      "source": [
        "df['Console'].value_counts().head(10).plot(kind='bar',figsize=(11,6),grid=False,rot=0,color='Red')\n",
        "plt.title('Os 10 Videogames com mais títulos lançados')\n",
        "plt.xlabel('Plataforma')\n",
        "plt.ylabel('Quantidade de jogos lançados')\n",
        "plt.show()"
      ]
    },
    {
      "cell_type": "markdown",
      "metadata": {},
      "source": [
        "Com esse gráfico, podemos perceber que por muito pouco, o Nintendo DS é campeão em títulos lançados, com um total exato de 2163 jogos lançados, seguido pelo PlayStation 2, com o total de 2161 títulos lançados no mesmo período.\n",
        "\n",
        "A mesma informação também foi exibida acima, porém em forma de DataFrame, aqui nós fizemos uma demonstração em forma de gráfico, isso pode facilitar a visualização.\n",
        "\n",
        "Agora nós precisamos saber quais foram os jogos mais vendidos do mundo, para isso podemos criar um novo DataFrame baseado no original e criar um gráfico a partir dele, vamos fazer isso abaixo:"
      ]
    },
    {
      "cell_type": "code",
      "execution_count": 12,
      "metadata": {
        "id": "mhOk5wT-p2NM"
      },
      "outputs": [
        {
          "data": {
            "text/html": [
              "<div>\n",
              "<style scoped>\n",
              "    .dataframe tbody tr th:only-of-type {\n",
              "        vertical-align: middle;\n",
              "    }\n",
              "\n",
              "    .dataframe tbody tr th {\n",
              "        vertical-align: top;\n",
              "    }\n",
              "\n",
              "    .dataframe thead th {\n",
              "        text-align: right;\n",
              "    }\n",
              "</style>\n",
              "<table border=\"1\" class=\"dataframe\">\n",
              "  <thead>\n",
              "    <tr style=\"text-align: right;\">\n",
              "      <th></th>\n",
              "      <th>Vendas Global</th>\n",
              "    </tr>\n",
              "    <tr>\n",
              "      <th>Nome</th>\n",
              "      <th></th>\n",
              "    </tr>\n",
              "  </thead>\n",
              "  <tbody>\n",
              "    <tr>\n",
              "      <th>Duck Hunt</th>\n",
              "      <td>28.31</td>\n",
              "    </tr>\n",
              "    <tr>\n",
              "      <th>New Super Mario Bros. Wii</th>\n",
              "      <td>28.62</td>\n",
              "    </tr>\n",
              "    <tr>\n",
              "      <th>Wii Play</th>\n",
              "      <td>29.02</td>\n",
              "    </tr>\n",
              "    <tr>\n",
              "      <th>New Super Mario Bros.</th>\n",
              "      <td>30.01</td>\n",
              "    </tr>\n",
              "    <tr>\n",
              "      <th>Tetris</th>\n",
              "      <td>30.26</td>\n",
              "    </tr>\n",
              "    <tr>\n",
              "      <th>Pokemon Red/Pokemon Blue</th>\n",
              "      <td>31.37</td>\n",
              "    </tr>\n",
              "    <tr>\n",
              "      <th>Wii Sports Resort</th>\n",
              "      <td>33.00</td>\n",
              "    </tr>\n",
              "    <tr>\n",
              "      <th>Mario Kart Wii</th>\n",
              "      <td>35.82</td>\n",
              "    </tr>\n",
              "    <tr>\n",
              "      <th>Super Mario Bros.</th>\n",
              "      <td>40.24</td>\n",
              "    </tr>\n",
              "    <tr>\n",
              "      <th>Wii Sports</th>\n",
              "      <td>82.74</td>\n",
              "    </tr>\n",
              "  </tbody>\n",
              "</table>\n",
              "</div>"
            ],
            "text/plain": [
              "                           Vendas Global\n",
              "Nome                                    \n",
              "Duck Hunt                          28.31\n",
              "New Super Mario Bros. Wii          28.62\n",
              "Wii Play                           29.02\n",
              "New Super Mario Bros.              30.01\n",
              "Tetris                             30.26\n",
              "Pokemon Red/Pokemon Blue           31.37\n",
              "Wii Sports Resort                  33.00\n",
              "Mario Kart Wii                     35.82\n",
              "Super Mario Bros.                  40.24\n",
              "Wii Sports                         82.74"
            ]
          },
          "execution_count": 12,
          "metadata": {},
          "output_type": "execute_result"
        }
      ],
      "source": [
        "top_10_vendas = df[['Nome','Vendas Global']].head(10).set_index('Nome').sort_values('Vendas Global', ascending=True)\n",
        "top_10_vendas"
      ]
    },
    {
      "cell_type": "markdown",
      "metadata": {},
      "source": [
        "#### Gráfico de barras horizontais"
      ]
    },
    {
      "cell_type": "markdown",
      "metadata": {},
      "source": [
        "Dá pra notar que criamos um tipo de filtro para o nosso DataFrame, que nos traz os dez títulos com a maior arrecadação de vendas em milhões de dólares, usaremos ele em nosso gráfico. Da mesma forma que antes, utilizando o *\".plt\"*, exibiremos o gráfico, só que desta vez, com o comando *\"barh\"*, que exibirá nossas barras em uma visão horizontal ao invés de vertical."
      ]
    },
    {
      "cell_type": "code",
      "execution_count": 13,
      "metadata": {},
      "outputs": [
        {
          "data": {
            "image/png": "[encoded data removed]",
            "text/plain": [
              "<Figure size 792x504 with 1 Axes>"
            ]
          },
          "metadata": {
            "needs_background": "light"
          },
          "output_type": "display_data"
        }
      ],
      "source": [
        "top_10_vendas.plot(kind='barh',figsize=(11,7),grid=False,color='darkred',legend=False)\n",
        "plt.title('Os 10 jogos mais vendidos do mundo')\n",
        "plt.xlabel('Total de vendas(em milhões de dólares)')\n",
        "plt.show()"
      ]
    },
    {
      "cell_type": "markdown",
      "metadata": {},
      "source": [
        "Como podemos notar, o título mais vendido no período foi o **Wii Sports**, título do **Nintendo Wii** com mais de 82 milhões de dólares arrecadados em vendas, praticamente o dobro do segundo colocado, **Super Mario Bros**, do console **NES** com 40 milhões de dólares arrecadados."
      ]
    },
    {
      "cell_type": "markdown",
      "metadata": {},
      "source": [
        "#### Gráfico \"heatmap\""
      ]
    },
    {
      "cell_type": "markdown",
      "metadata": {},
      "source": [
        "Vamos fazer um tipo de gráfico diferente agora, podemos chamar ele de *heatmap*, ou, traduzindo, *mapa de calor*. \n",
        "\n",
        "Um *heatmap* nos traz qual é a frequência que algo acontece dentro do nosso DataFrame, demonstrado por cores, veremos como funciona um gráfico do tipo logo abaixo:"
      ]
    },
    {
      "cell_type": "code",
      "execution_count": 22,
      "metadata": {
        "id": "p1djtrU7rCmD"
      },
      "outputs": [
        {
          "name": "stderr",
          "output_type": "stream",
          "text": [
            "/tmp/ipykernel_16943/3273336539.py:2: FutureWarning: The frame.append method is deprecated and will be removed from pandas in a future version. Use pandas.concat instead.\n",
            "  top_10_final = top_10_plat.append(pd.DataFrame(top_10_plat.sum(), columns=['Total']).T,ignore_index=False)\n"
          ]
        },
        {
          "data": {
            "text/html": [
              "<div>\n",
              "<style scoped>\n",
              "    .dataframe tbody tr th:only-of-type {\n",
              "        vertical-align: middle;\n",
              "    }\n",
              "\n",
              "    .dataframe tbody tr th {\n",
              "        vertical-align: top;\n",
              "    }\n",
              "\n",
              "    .dataframe thead th {\n",
              "        text-align: right;\n",
              "    }\n",
              "</style>\n",
              "<table border=\"1\" class=\"dataframe\">\n",
              "  <thead>\n",
              "    <tr style=\"text-align: right;\">\n",
              "      <th>Gênero</th>\n",
              "      <th>Aventura</th>\n",
              "      <th>Ação</th>\n",
              "      <th>Corrida</th>\n",
              "      <th>Esporte</th>\n",
              "      <th>Estratégia</th>\n",
              "      <th>Luta</th>\n",
              "      <th>Misc</th>\n",
              "      <th>Plataforma</th>\n",
              "      <th>Puzzle</th>\n",
              "      <th>RPG</th>\n",
              "      <th>Simulação</th>\n",
              "      <th>Tiro</th>\n",
              "      <th>Total</th>\n",
              "    </tr>\n",
              "  </thead>\n",
              "  <tbody>\n",
              "    <tr>\n",
              "      <th>DS</th>\n",
              "      <td>240</td>\n",
              "      <td>343</td>\n",
              "      <td>67</td>\n",
              "      <td>148</td>\n",
              "      <td>79</td>\n",
              "      <td>36</td>\n",
              "      <td>393</td>\n",
              "      <td>92</td>\n",
              "      <td>238</td>\n",
              "      <td>200</td>\n",
              "      <td>285</td>\n",
              "      <td>42</td>\n",
              "      <td>2163</td>\n",
              "    </tr>\n",
              "    <tr>\n",
              "      <th>PS2</th>\n",
              "      <td>196</td>\n",
              "      <td>348</td>\n",
              "      <td>216</td>\n",
              "      <td>400</td>\n",
              "      <td>71</td>\n",
              "      <td>150</td>\n",
              "      <td>222</td>\n",
              "      <td>103</td>\n",
              "      <td>18</td>\n",
              "      <td>187</td>\n",
              "      <td>90</td>\n",
              "      <td>160</td>\n",
              "      <td>2161</td>\n",
              "    </tr>\n",
              "    <tr>\n",
              "      <th>PS3</th>\n",
              "      <td>74</td>\n",
              "      <td>380</td>\n",
              "      <td>92</td>\n",
              "      <td>213</td>\n",
              "      <td>24</td>\n",
              "      <td>76</td>\n",
              "      <td>124</td>\n",
              "      <td>37</td>\n",
              "      <td>3</td>\n",
              "      <td>119</td>\n",
              "      <td>31</td>\n",
              "      <td>156</td>\n",
              "      <td>1329</td>\n",
              "    </tr>\n",
              "    <tr>\n",
              "      <th>Wii</th>\n",
              "      <td>84</td>\n",
              "      <td>238</td>\n",
              "      <td>94</td>\n",
              "      <td>261</td>\n",
              "      <td>25</td>\n",
              "      <td>42</td>\n",
              "      <td>280</td>\n",
              "      <td>58</td>\n",
              "      <td>55</td>\n",
              "      <td>35</td>\n",
              "      <td>87</td>\n",
              "      <td>66</td>\n",
              "      <td>1325</td>\n",
              "    </tr>\n",
              "    <tr>\n",
              "      <th>X360</th>\n",
              "      <td>47</td>\n",
              "      <td>324</td>\n",
              "      <td>105</td>\n",
              "      <td>220</td>\n",
              "      <td>28</td>\n",
              "      <td>65</td>\n",
              "      <td>126</td>\n",
              "      <td>24</td>\n",
              "      <td>7</td>\n",
              "      <td>76</td>\n",
              "      <td>40</td>\n",
              "      <td>203</td>\n",
              "      <td>1265</td>\n",
              "    </tr>\n",
              "    <tr>\n",
              "      <th>PSP</th>\n",
              "      <td>213</td>\n",
              "      <td>222</td>\n",
              "      <td>65</td>\n",
              "      <td>135</td>\n",
              "      <td>60</td>\n",
              "      <td>74</td>\n",
              "      <td>106</td>\n",
              "      <td>36</td>\n",
              "      <td>44</td>\n",
              "      <td>192</td>\n",
              "      <td>29</td>\n",
              "      <td>37</td>\n",
              "      <td>1213</td>\n",
              "    </tr>\n",
              "    <tr>\n",
              "      <th>PS</th>\n",
              "      <td>69</td>\n",
              "      <td>157</td>\n",
              "      <td>145</td>\n",
              "      <td>222</td>\n",
              "      <td>70</td>\n",
              "      <td>108</td>\n",
              "      <td>76</td>\n",
              "      <td>64</td>\n",
              "      <td>32</td>\n",
              "      <td>97</td>\n",
              "      <td>60</td>\n",
              "      <td>96</td>\n",
              "      <td>1196</td>\n",
              "    </tr>\n",
              "    <tr>\n",
              "      <th>Total</th>\n",
              "      <td>923</td>\n",
              "      <td>2012</td>\n",
              "      <td>784</td>\n",
              "      <td>1599</td>\n",
              "      <td>357</td>\n",
              "      <td>551</td>\n",
              "      <td>1327</td>\n",
              "      <td>414</td>\n",
              "      <td>397</td>\n",
              "      <td>906</td>\n",
              "      <td>622</td>\n",
              "      <td>760</td>\n",
              "      <td>10652</td>\n",
              "    </tr>\n",
              "  </tbody>\n",
              "</table>\n",
              "</div>"
            ],
            "text/plain": [
              "Gênero  Aventura  Ação  Corrida  Esporte  Estratégia  Luta  Misc  Plataforma  \\\n",
              "DS           240   343       67      148          79    36   393          92   \n",
              "PS2          196   348      216      400          71   150   222         103   \n",
              "PS3           74   380       92      213          24    76   124          37   \n",
              "Wii           84   238       94      261          25    42   280          58   \n",
              "X360          47   324      105      220          28    65   126          24   \n",
              "PSP          213   222       65      135          60    74   106          36   \n",
              "PS            69   157      145      222          70   108    76          64   \n",
              "Total        923  2012      784     1599         357   551  1327         414   \n",
              "\n",
              "Gênero  Puzzle  RPG  Simulação  Tiro  Total  \n",
              "DS         238  200        285    42   2163  \n",
              "PS2         18  187         90   160   2161  \n",
              "PS3          3  119         31   156   1329  \n",
              "Wii         55   35         87    66   1325  \n",
              "X360         7   76         40   203   1265  \n",
              "PSP         44  192         29    37   1213  \n",
              "PS          32   97         60    96   1196  \n",
              "Total      397  906        622   760  10652  "
            ]
          },
          "execution_count": 22,
          "metadata": {},
          "output_type": "execute_result"
        }
      ],
      "source": [
        "top_10_plat = crosstab_vg[crosstab_vg['Total'] > 1000].sort_values('Total', ascending = False)\n",
        "top_10_final = top_10_plat.append(pd.DataFrame(top_10_plat.sum(), columns=['Total']).T,ignore_index=False)\n",
        "top_10_final"
      ]
    },
    {
      "cell_type": "markdown",
      "metadata": {},
      "source": [
        "A primeira coisa a se fazer quando se trata desse tipo de visualização, também é criar um pequeno DataFrame modificado baseado no DataFrame original, aqui criamos um que nos mostra os consoles e a quantidade de jogos dividido por gênero, e logo abaixo foi criada uma nova linha, que realiza a soma daquela coluna em específico. Além disso, para este gráfico acabei desconsiderando consoles com menos de 1000 títulos, com viés de facilitar a visualização.\n",
        "\n",
        "Além disso, podemos notar que reutilizamos o *\"crosstab_vg\"* que fizemos lá em cima, ele foi útil e já nos economizou algumas linhas de código, uma vez que nosso gráfico vai tratar dados bem semelhantes.\n",
        "\n",
        "Vamos ao gráfico de fato, aqui utilizei a biblioteca *seaborn* para determinar o tamanho da fonte e importar o nosso tipo de gráfico ( *o heatmap, lembra dele ?* ) "
      ]
    },
    {
      "cell_type": "code",
      "execution_count": 15,
      "metadata": {},
      "outputs": [
        {
          "data": {
            "image/png": "[encoded data removed]",
            "text/plain": [
              "<Figure size 1296x648 with 2 Axes>"
            ]
          },
          "metadata": {},
          "output_type": "display_data"
        }
      ],
      "source": [
        "sns.set(font_scale=1)\n",
        "plt.figure(figsize=(18,9))\n",
        "sns.heatmap(top_10_final, annot=True, vmax=top_10_final.loc[:'PS',:'Strategy'].values.max(), vmin = top_10_final.loc[:,:'Strategy'].values.min(),fmt='d')\n",
        "plt.xlabel('GÊNERO')\n",
        "plt.ylabel('CONSOLE')\n",
        "plt.title('QUANTIDADE DE TÍTULOS POR GÊNERO E CONSOLE')\n",
        "plt.show()"
      ]
    },
    {
      "cell_type": "markdown",
      "metadata": {},
      "source": [
        "#### (Extra) Plotando gráficos adicionais"
      ]
    },
    {
      "cell_type": "markdown",
      "metadata": {},
      "source": [
        "A título de estudo, vamos realizar a plotagem de mais dois gráficos, **\"Os 10 Jogos mais vendidos nos EUA\"**, **\"Os 10 Jogos mais vendidos no Japão** e **\"Os 10 consoles com mais títulos lançados\"**.\n",
        "\n",
        "Da mesma forma que realizamos antes, vamos criar pequenos **DataFrames** filtrados baseados no original, a fim de facilitar a nossa plotagem."
      ]
    },
    {
      "cell_type": "code",
      "execution_count": 16,
      "metadata": {},
      "outputs": [
        {
          "data": {
            "image/png": "[encoded data removed]",
            "text/plain": [
              "<Figure size 792x576 with 1 Axes>"
            ]
          },
          "metadata": {},
          "output_type": "display_data"
        }
      ],
      "source": [
        "top_10_vendas = df[['Nome','Vendas EUA']].head(10).set_index('Nome').sort_values('Vendas EUA', ascending=False)\n",
        "top_10_vendas.plot(kind='barh',figsize=(11,8),grid=False,color='purple',legend=False)\n",
        "\n",
        "plt.title('Os 10 jogos mais vendidos dos EUA')\n",
        "plt.xlabel('Total de vendas(em milhões de dólares)')\n",
        "plt.show()"
      ]
    },
    {
      "cell_type": "code",
      "execution_count": 17,
      "metadata": {},
      "outputs": [
        {
          "data": {
            "image/png": "[encoded data removed]",
            "text/plain": [
              "<Figure size 792x504 with 1 Axes>"
            ]
          },
          "metadata": {},
          "output_type": "display_data"
        }
      ],
      "source": [
        "\n",
        "top_10_vendas2 = df[['Nome','Vendas Japão']].head(10).set_index('Nome').sort_values('Vendas Japão', ascending=False)\n",
        "top_10_vendas2.plot(kind='barh',figsize=(11,7),grid=False,color='black',legend=False)\n",
        "\n",
        "plt.title('Os 10 jogos mais vendidos do Japão')\n",
        "plt.xlabel('Total de vendas(em milhões de dólares)')\n",
        "plt.show()"
      ]
    },
    {
      "cell_type": "code",
      "execution_count": 18,
      "metadata": {},
      "outputs": [
        {
          "data": {
            "text/html": [
              "<div>\n",
              "<style scoped>\n",
              "    .dataframe tbody tr th:only-of-type {\n",
              "        vertical-align: middle;\n",
              "    }\n",
              "\n",
              "    .dataframe tbody tr th {\n",
              "        vertical-align: top;\n",
              "    }\n",
              "\n",
              "    .dataframe thead th {\n",
              "        text-align: right;\n",
              "    }\n",
              "</style>\n",
              "<table border=\"1\" class=\"dataframe\">\n",
              "  <thead>\n",
              "    <tr style=\"text-align: right;\">\n",
              "      <th>Gênero</th>\n",
              "      <th>Total</th>\n",
              "    </tr>\n",
              "    <tr>\n",
              "      <th>Console</th>\n",
              "      <th></th>\n",
              "    </tr>\n",
              "  </thead>\n",
              "  <tbody>\n",
              "    <tr>\n",
              "      <th>DS</th>\n",
              "      <td>2163</td>\n",
              "    </tr>\n",
              "    <tr>\n",
              "      <th>PS2</th>\n",
              "      <td>2161</td>\n",
              "    </tr>\n",
              "    <tr>\n",
              "      <th>PS3</th>\n",
              "      <td>1329</td>\n",
              "    </tr>\n",
              "    <tr>\n",
              "      <th>Wii</th>\n",
              "      <td>1325</td>\n",
              "    </tr>\n",
              "    <tr>\n",
              "      <th>X360</th>\n",
              "      <td>1265</td>\n",
              "    </tr>\n",
              "    <tr>\n",
              "      <th>PSP</th>\n",
              "      <td>1213</td>\n",
              "    </tr>\n",
              "    <tr>\n",
              "      <th>PS</th>\n",
              "      <td>1196</td>\n",
              "    </tr>\n",
              "    <tr>\n",
              "      <th>PC</th>\n",
              "      <td>960</td>\n",
              "    </tr>\n",
              "    <tr>\n",
              "      <th>XB</th>\n",
              "      <td>824</td>\n",
              "    </tr>\n",
              "    <tr>\n",
              "      <th>GBA</th>\n",
              "      <td>822</td>\n",
              "    </tr>\n",
              "  </tbody>\n",
              "</table>\n",
              "</div>"
            ],
            "text/plain": [
              "Gênero   Total\n",
              "Console       \n",
              "DS        2163\n",
              "PS2       2161\n",
              "PS3       1329\n",
              "Wii       1325\n",
              "X360      1265\n",
              "PSP       1213\n",
              "PS        1196\n",
              "PC         960\n",
              "XB         824\n",
              "GBA        822"
            ]
          },
          "execution_count": 18,
          "metadata": {},
          "output_type": "execute_result"
        }
      ],
      "source": [
        "# Criando uma tabela somente com consoles e venda total\n",
        "\n",
        "crosstab_vg2 = crosstab_vg.copy()\n",
        "crosstab_vg2.drop(crosstab_vg2.iloc[:, 0:12], inplace = True, axis = 1)\n",
        "crosstab_vg2 = crosstab_vg2.sort_values('Total',ascending=False).head(10)\n",
        "crosstab_vg2"
      ]
    },
    {
      "cell_type": "code",
      "execution_count": 19,
      "metadata": {},
      "outputs": [
        {
          "data": {
            "image/png": "[encoded data removed]",
            "text/plain": [
              "<Figure size 648x504 with 1 Axes>"
            ]
          },
          "metadata": {},
          "output_type": "display_data"
        }
      ],
      "source": [
        "# Gráfico com os 10 videogames com mais títulos lançados\n",
        "\n",
        "crosstab_vg2.plot(kind='bar',figsize=(9,7),color='brown', legend=False)\n",
        "\n",
        "plt.title('Os 10 videogames com mais títulos lançados')\n",
        "plt.xlabel('Consoles')\n",
        "plt.ylabel('Total de títulos lançados')\n",
        "plt.show()"
      ]
    },
    {
      "cell_type": "code",
      "execution_count": 20,
      "metadata": {},
      "outputs": [
        {
          "data": {
            "text/html": [
              "<div>\n",
              "<style scoped>\n",
              "    .dataframe tbody tr th:only-of-type {\n",
              "        vertical-align: middle;\n",
              "    }\n",
              "\n",
              "    .dataframe tbody tr th {\n",
              "        vertical-align: top;\n",
              "    }\n",
              "\n",
              "    .dataframe thead th {\n",
              "        text-align: right;\n",
              "    }\n",
              "</style>\n",
              "<table border=\"1\" class=\"dataframe\">\n",
              "  <thead>\n",
              "    <tr style=\"text-align: right;\">\n",
              "      <th></th>\n",
              "      <th>Ranking</th>\n",
              "      <th>Nome</th>\n",
              "      <th>Console</th>\n",
              "      <th>Ano</th>\n",
              "      <th>Gênero</th>\n",
              "      <th>Editora</th>\n",
              "      <th>Vendas Japão</th>\n",
              "    </tr>\n",
              "  </thead>\n",
              "  <tbody>\n",
              "    <tr>\n",
              "      <th>4</th>\n",
              "      <td>5</td>\n",
              "      <td>Pokemon Red/Pokemon Blue</td>\n",
              "      <td>GB</td>\n",
              "      <td>1996.0</td>\n",
              "      <td>RPG</td>\n",
              "      <td>Nintendo</td>\n",
              "      <td>10.22</td>\n",
              "    </tr>\n",
              "    <tr>\n",
              "      <th>12</th>\n",
              "      <td>13</td>\n",
              "      <td>Pokemon Gold/Pokemon Silver</td>\n",
              "      <td>GB</td>\n",
              "      <td>1999.0</td>\n",
              "      <td>RPG</td>\n",
              "      <td>Nintendo</td>\n",
              "      <td>7.20</td>\n",
              "    </tr>\n",
              "    <tr>\n",
              "      <th>1</th>\n",
              "      <td>2</td>\n",
              "      <td>Super Mario Bros.</td>\n",
              "      <td>NES</td>\n",
              "      <td>1985.0</td>\n",
              "      <td>Plataforma</td>\n",
              "      <td>Nintendo</td>\n",
              "      <td>6.81</td>\n",
              "    </tr>\n",
              "    <tr>\n",
              "      <th>6</th>\n",
              "      <td>7</td>\n",
              "      <td>New Super Mario Bros.</td>\n",
              "      <td>DS</td>\n",
              "      <td>2006.0</td>\n",
              "      <td>Plataforma</td>\n",
              "      <td>Nintendo</td>\n",
              "      <td>6.50</td>\n",
              "    </tr>\n",
              "    <tr>\n",
              "      <th>20</th>\n",
              "      <td>21</td>\n",
              "      <td>Pokemon Diamond/Pokemon Pearl</td>\n",
              "      <td>DS</td>\n",
              "      <td>2006.0</td>\n",
              "      <td>RPG</td>\n",
              "      <td>Nintendo</td>\n",
              "      <td>6.04</td>\n",
              "    </tr>\n",
              "    <tr>\n",
              "      <th>26</th>\n",
              "      <td>27</td>\n",
              "      <td>Pokemon Black/Pokemon White</td>\n",
              "      <td>DS</td>\n",
              "      <td>2010.0</td>\n",
              "      <td>RPG</td>\n",
              "      <td>Nintendo</td>\n",
              "      <td>5.65</td>\n",
              "    </tr>\n",
              "    <tr>\n",
              "      <th>25</th>\n",
              "      <td>26</td>\n",
              "      <td>Pokemon Ruby/Pokemon Sapphire</td>\n",
              "      <td>GBA</td>\n",
              "      <td>2002.0</td>\n",
              "      <td>RPG</td>\n",
              "      <td>Nintendo</td>\n",
              "      <td>5.38</td>\n",
              "    </tr>\n",
              "    <tr>\n",
              "      <th>41</th>\n",
              "      <td>42</td>\n",
              "      <td>Animal Crossing: Wild World</td>\n",
              "      <td>DS</td>\n",
              "      <td>2005.0</td>\n",
              "      <td>Simulação</td>\n",
              "      <td>Nintendo</td>\n",
              "      <td>5.33</td>\n",
              "    </tr>\n",
              "    <tr>\n",
              "      <th>27</th>\n",
              "      <td>28</td>\n",
              "      <td>Brain Age 2: More Training in Minutes a Day</td>\n",
              "      <td>DS</td>\n",
              "      <td>2005.0</td>\n",
              "      <td>Puzzle</td>\n",
              "      <td>Nintendo</td>\n",
              "      <td>5.32</td>\n",
              "    </tr>\n",
              "    <tr>\n",
              "      <th>214</th>\n",
              "      <td>215</td>\n",
              "      <td>Monster Hunter Freedom 3</td>\n",
              "      <td>PSP</td>\n",
              "      <td>2010.0</td>\n",
              "      <td>RPG</td>\n",
              "      <td>Capcom</td>\n",
              "      <td>4.87</td>\n",
              "    </tr>\n",
              "  </tbody>\n",
              "</table>\n",
              "</div>"
            ],
            "text/plain": [
              "     Ranking                                         Nome Console     Ano  \\\n",
              "4          5                     Pokemon Red/Pokemon Blue      GB  1996.0   \n",
              "12        13                  Pokemon Gold/Pokemon Silver      GB  1999.0   \n",
              "1          2                            Super Mario Bros.     NES  1985.0   \n",
              "6          7                        New Super Mario Bros.      DS  2006.0   \n",
              "20        21                Pokemon Diamond/Pokemon Pearl      DS  2006.0   \n",
              "26        27                  Pokemon Black/Pokemon White      DS  2010.0   \n",
              "25        26                Pokemon Ruby/Pokemon Sapphire     GBA  2002.0   \n",
              "41        42                  Animal Crossing: Wild World      DS  2005.0   \n",
              "27        28  Brain Age 2: More Training in Minutes a Day      DS  2005.0   \n",
              "214      215                     Monster Hunter Freedom 3     PSP  2010.0   \n",
              "\n",
              "         Gênero   Editora  Vendas Japão  \n",
              "4           RPG  Nintendo         10.22  \n",
              "12          RPG  Nintendo          7.20  \n",
              "1    Plataforma  Nintendo          6.81  \n",
              "6    Plataforma  Nintendo          6.50  \n",
              "20          RPG  Nintendo          6.04  \n",
              "26          RPG  Nintendo          5.65  \n",
              "25          RPG  Nintendo          5.38  \n",
              "41    Simulação  Nintendo          5.33  \n",
              "27       Puzzle  Nintendo          5.32  \n",
              "214         RPG    Capcom          4.87  "
            ]
          },
          "execution_count": 20,
          "metadata": {},
          "output_type": "execute_result"
        }
      ],
      "source": [
        "# Criando o DataFrame somente com os valores de vendas no Japão\n",
        "\n",
        "df4 = df.copy()\n",
        "\n",
        "def deletando(df4):\n",
        "    del df4['Vendas América do Norte']\n",
        "    del df4['Vendas EUA']\n",
        "    del df4['Outras vendas']\n",
        "    del df4['Vendas Global']\n",
        "\n",
        "deletando(df4)\n",
        "\n",
        "df4.sort_values(by=['Vendas Japão'], ascending=False).head(10)\n"
      ]
    }
  ],
  "metadata": {
    "colab": {
      "name": "vendas_videogames.ipynb",
      "provenance": [],
      "toc_visible": true
    },
    "kernelspec": {
      "display_name": "Python 3.10.4 64-bit",
      "language": "python",
      "name": "python3"
    },
    "language_info": {
      "codemirror_mode": {
        "name": "ipython",
        "version": 3
      },
      "file_extension": ".py",
      "mimetype": "text/x-python",
      "name": "python",
      "nbconvert_exporter": "python",
      "pygments_lexer": "ipython3",
      "version": "3.10.4"
    },
    "vscode": {
      "interpreter": {
        "hash": "916dbcbb3f70747c44a77c7bcd40155683ae19c65e1c03b4aa3499c5328201f1"
      }
    }
  },
  "nbformat": 4,
  "nbformat_minor": 0
}
