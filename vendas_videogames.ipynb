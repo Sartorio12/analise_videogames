{
  "cells": [
    {
      "cell_type": "markdown",
      "metadata": {
        "id": "xMSR_4LqtBka"
      },
      "source": [
        "# <center>Análise sobre vendas de jogos pelo mundo durante a história dos videogames\n",
        "\n",
        "---\n",
        "\n",
        "### <center>Uma breve análise exploratória sobre a queda e ascensão de algumas empresas de videogames\n",
        "\n",
        "##### <center>Autor: <a href=\"https://github.com/Sartorio12\" target=\"_blank\">Mateus Burock Sartorio</a></center>"
      ]
    },
    {
      "cell_type": "markdown",
      "metadata": {
        "id": "2bHWu39XuqOT"
      },
      "source": [
        "<center><img src=\"https://i.imgur.com/Vmagj4O.jpg\">"
      ]
    },
    {
      "cell_type": "markdown",
      "metadata": {
        "id": "9nM-jnSctrve"
      },
      "source": [
        "### Introdução"
      ]
    },
    {
      "cell_type": "markdown",
      "metadata": {
        "id": "aNjQIbVVzIY_"
      },
      "source": [
        "Bem, pra começo de conversa, sempre gostei muito de jogar, e com o propósito de praticar, resolvi fazer uma análise de um dataset sobre Jogos, apesar de ser uma análise simples, vou tentar ressaltar todos os pontos interessantes sobre essa base de dados. O conjunto que iremos analisar confere as vendas de jogos do ano de 1980 até o ano de 2020, de diversos consoles lançados.Esse dataset contém uma lista de jogos e videogames com vendas acima de 100,000 unidades. Foi gerado a partir de uma raspagem de dados do site <a href=\"https://www.vgchartz.com/\"><b>vgchartz.com</b></a>. A primeira coisa que precisamos fazer, é importar o arquivo CSV que iremos analisar hoje. Confira abaixo:"
      ]
    },
    {
      "cell_type": "markdown",
      "metadata": {
        "id": "eRwMj_1kzOmf"
      },
      "source": [
        "### Importando as bibliotecas utilizadas"
      ]
    },
    {
      "cell_type": "markdown",
      "metadata": {
        "id": "C8MMCg1zzYNp"
      },
      "source": [
        "Começaremos com o básico para a nossa análise, a importação de bibliotecas fundamentais para que nossa pesquisa ocorra, importando o ***pandas*** e ***numpy***, para a análise do dataset, ***matplotlib*** e ***seaborn*** para a constução de gráficos:"
      ]
    },
    {
      "cell_type": "code",
      "execution_count": 3,
      "metadata": {
        "id": "ih3MOJ4rce-Y"
      },
      "outputs": [],
      "source": [
        "import pandas as pd\n",
        "import numpy as np\n",
        "import matplotlib.pyplot as plt\n",
        "import seaborn as sns"
      ]
    },
    {
      "cell_type": "markdown",
      "metadata": {
        "id": "XmdayHI60O1A"
      },
      "source": [
        "### Lendo o nosso arquivo CSV"
      ]
    },
    {
      "cell_type": "markdown",
      "metadata": {
        "id": "IqtRIBMp0kZT"
      },
      "source": [
        "Aqui vamos puxar a nossa base de dados da internet, faremos nossas análises em cima dela, utilizando o comando do ***pandas*** podemos fazer isso com facilidade, além de transformar um arquivo CSV em um DataFrame, para melhor visualização"
      ]
    },
    {
      "cell_type": "code",
      "execution_count": 4,
      "metadata": {
        "id": "uJZNKqljfJ_f"
      },
      "outputs": [],
      "source": [
        "df = pd.read_csv('./vgsales.csv')"
      ]
    },
    {
      "cell_type": "markdown",
      "metadata": {
        "id": "7STAovEO1DIv"
      },
      "source": [
        "# <center>Tudo tem um começo"
      ]
    },
    {
      "cell_type": "markdown",
      "metadata": {
        "id": "y47wz_lD1PSX"
      },
      "source": [
        "### Limpando e tratando os dados"
      ]
    },
    {
      "cell_type": "markdown",
      "metadata": {
        "id": "LhgZZd_u1bCO"
      },
      "source": [
        "A primeira coisa a se fazer quando analisamos um dataset, é realizar a limpeza e formatação dos dados, para que nossa análise ocorra de forma coesa e sem maiores erros, afinal, imagine só você fazer isso pro seu chefe e ter algum dado incorreto ou incompleto, ele certamente não gostaria né ?"
      ]
    },
    {
      "cell_type": "markdown",
      "metadata": {
        "id": "aJTx0hys17QK"
      },
      "source": [
        "Vamos então a primeira etapa, visualizar como veio nosso DataFrame"
      ]
    },
    {
      "cell_type": "code",
      "execution_count": null,
      "metadata": {
        "id": "na4bYS6I2CwA"
      },
      "outputs": [],
      "source": [
        "df"
      ]
    },
    {
      "cell_type": "markdown",
      "metadata": {
        "id": "wUPyXDvx2G4Q"
      },
      "source": [
        "De cara, podemos notar que os nomes das colunas estão em inglês, vamos traduzir essas colunas para nosso idioma utilizando o comando ***.columns*** do ***pandas***. Podemos utilizar o ***columns*** também para alterar uma coluna específica passando os atributos, mas como queremos alterar todas elas, faremos direto dessa vez."
      ]
    },
    {
      "cell_type": "code",
      "execution_count": 6,
      "metadata": {
        "id": "sMYRzLAlSpiW"
      },
      "outputs": [],
      "source": [
        "df.columns = ['Ranking', 'Nome', 'Plataforma', 'Ano','Gênero', 'Editora', 'Vendas América do Norte', 'Vendas EUA','Vendas Japão',\n",
        "              'Outras vendas', 'Vendas Global']\n",
        "\n",
        "df['Gênero'] = df['Gênero'].replace({'Action':'Ação','Adventure':'Aventura','Fighting':'Luta','Platform':'Plataforma','Racing':'Corrida',\n",
        "'Role-Playing':'RPG','Shooter':'Tiro','Simulation':'Simulação','Sports':'Esporte','Strategy':'Estratégia'})"
      ]
    },
    {
      "cell_type": "markdown",
      "metadata": {},
      "source": [
        "Logo em seguida, faremos uma breve análise sobre os tipos de dados com os quais estamos trabalhando, podemos perceber que estão todos corretos e já prontos para serem tratados."
      ]
    },
    {
      "cell_type": "code",
      "execution_count": null,
      "metadata": {
        "colab": {
          "base_uri": "https://localhost:8080/"
        },
        "id": "AVblps6vQwSW",
        "outputId": "94014584-461f-4c2d-ad0a-b932df7abd05"
      },
      "outputs": [],
      "source": [
        "df.dtypes"
      ]
    },
    {
      "cell_type": "markdown",
      "metadata": {},
      "source": [
        "A função ***describe()*** traz informações importantes sobre nossos dados, que podem ser usados para gerar estatísticas, por exemplo. Verifique que cada linha da tabela mostra um dado diferente. Na primeira nós temos a **count**, que realiza uma contagem dos valores existentes no conjunto de dados; a segunda linha **— std**, ou *standard deviation* — traz o desvio padrão dos valores; em seguida temos os valores **mínimos**, **quartis** e valores **máximos** de cada coluna."
      ]
    },
    {
      "cell_type": "code",
      "execution_count": null,
      "metadata": {
        "id": "Ms8zFwjJlbsW"
      },
      "outputs": [],
      "source": [
        "df.describe()"
      ]
    },
    {
      "cell_type": "markdown",
      "metadata": {},
      "source": [
        "Em seguida, uma verificação básica, pra saber qual é o tamanho do nosso DataFrame, o comando *.shape* nos mostra quantas **linhas** e **colunas** temos, respectivamente. Com o comando abaixo, dá pra perceber que temos *16598 linhas* e *11 colunas*."
      ]
    },
    {
      "cell_type": "code",
      "execution_count": null,
      "metadata": {
        "id": "p0d5CVVkSlzj"
      },
      "outputs": [],
      "source": [
        "df.shape"
      ]
    },
    {
      "cell_type": "markdown",
      "metadata": {},
      "source": [
        "Dentro desse DataFrame, nós temos alguns campos que estão sem informação, como podemos ver abaixo, temos *271* registros nulos na tabela Ano e *58* registros nulos na coluna Editora, com viés de facilitar a nossa análise, deixaremos os dados nulos nesses campos, pois eles não influenciarão em nossa pesquisa no momento."
      ]
    },
    {
      "cell_type": "code",
      "execution_count": null,
      "metadata": {
        "id": "cctom32qoWGd"
      },
      "outputs": [],
      "source": [
        "df.isna().sum()"
      ]
    },
    {
      "cell_type": "markdown",
      "metadata": {},
      "source": [
        "Após esses procedimentos, realizamos a limpeza dos dados e fizemos uma breve análise deles, verificando o que seria possível e o que não seria. A partir de agora, realizaremos uma análise mais aprofundadas, criaremos filtros e gráficos para demonstrar como esses dados se comportam, e vamos também extrair informações importantes dele."
      ]
    },
    {
      "cell_type": "markdown",
      "metadata": {},
      "source": [
        "# <center>Análises exploratórias dos dados"
      ]
    },
    {
      "cell_type": "markdown",
      "metadata": {},
      "source": [
        "### Criando filtros de pesquisa"
      ]
    },
    {
      "cell_type": "markdown",
      "metadata": {},
      "source": [
        "Quando se visualiza um DataFrame sem criar filtros, vemos todas as informações que ele contém, porém para que se extraia alguma informação mais precisa dele, torna-se necessário a criação de um filtro baseado no que você quer saber. Vamos a alguns exemplos abaixo:"
      ]
    },
    {
      "cell_type": "code",
      "execution_count": null,
      "metadata": {},
      "outputs": [],
      "source": [
        "crosstab_vg = pd.crosstab(df['Plataforma'],df['Gênero'])\n",
        "crosstab_vg['Total'] = crosstab_vg.sum(axis=1)\n",
        "crosstab_vg.sort_values('Total', ascending=False)"
      ]
    },
    {
      "cell_type": "markdown",
      "metadata": {},
      "source": [
        "\n",
        "\n",
        "No exemplo acima, podemos perceber que foi criado um tipo de filtro que exibe os consoles e a quantidade de jogos separados por gênero que foram lançados para a plataforma, isso é útil para que possamos ver qual foi a plataforma com mais jogos lançados, que nesse caso foi o ***NintendoDS***, com ***2163*** títulos lançados até o ano de 2020.\n",
        "\n",
        "Aqui utilizamos alguns métodos para manipular o DataFrame ao nosso favor, como o método *crosstab,sum* e *sort_values*. \n",
        "\n",
        "#### ***\"Mas o que é isso ? Nunca vi isso na minha vida\"***\n",
        "\n",
        "- Então, basicamente o método *crosstab* faz com que você possa agrupar duas variáveis diferentes ​​e realizar cálculos de um determinado valor para cada grupo. É claro que essas operações são possíveis usando *groupby()* ou *pivot_table()*, mas como veremos mais adiante, o *crosstab()* apresenta vários benefícios ao seu fluxo de trabalho, como a praticidade e economia de processamento.\n",
        "\n",
        "- O método ***sum()*** realiza para nós a soma de variáveis dentro do DataFrame, nesse caso, a soma do eixo 1 (***axis=1***), que corresponde as nossas linhas criadas, basicamente ele vai somar a quantia de jogos de cada gênero, e em uma última coluna, retornar o valor total da soma.\n",
        "\n",
        "- ***sort_values()*** faz com que os valores fiquem ordenados, lembrando que ele sempre precisa ter algum parâmetro dentro, sendo que esse parâmetro na maioria das vezes será a coluna a qual você quer ordenar *(do maior pro menor ou vice-versa)*.\n",
        "\n"
      ]
    },
    {
      "cell_type": "markdown",
      "metadata": {},
      "source": [
        "***Agora vamos criar um filtro de pesquisa diferenciado, você certamente tem seu jogo favorito, e se você quisesse saber quantos jogos a sua franquia favorita vendeu ?***\n",
        "\n",
        "Podemos criar um filtro específico para isso usando o comando ***str.contains()***, que vai retornar pra gente todas as células em uma coluna específica do DataFrame que contém o nome pesquisado.\n",
        "\n",
        "No exemplo abaixo, fiz com a franquia *\"Kingdom Hearts\"*, listando todos os jogos lançados de 2000 a 2014, com seus respectivos valores arrecadados em vendas pelo mundo inteiro.\n",
        "\n",
        "Também criei uma cópia de nosso DataFrame original, para que quaisquiser alterações não implicassem em nossa pesquisa base."
      ]
    },
    {
      "cell_type": "code",
      "execution_count": null,
      "metadata": {},
      "outputs": [],
      "source": [
        "df2 = df.copy() # Aqui eu criei uma cópia do DataFrame original\n",
        "\n",
        "df2 = df[df['Nome'].str.contains('Kingdom Hearts', na = False)] # Aqui eu criei um filtro de pesquisa baseado em uma string\n",
        "sorted_df = df2.sort_values(by=['Vendas Global'], ascending=False) # Aqui eu determinei que queria os resultados organizados pelo valor total de vendas\n",
        "sorted_df"
      ]
    },
    {
      "cell_type": "markdown",
      "metadata": {},
      "source": [
        "### Criando gráficos"
      ]
    },
    {
      "cell_type": "markdown",
      "metadata": {},
      "source": [
        "Sabemos que criando filtros, já temos uma forma de filtrar nossos dados ao que nos interessa, porém, e se a gente melhorasse isso ainda mais? **(sim, dá pra melhorar sempre)** \n",
        "\n",
        "Uma excelente forma de conseguir visualizar dados é por meio de *gráficos*, fazemos isso com as bibliotecas *matplotlib* e *seaborn*.\n",
        "\n",
        "No exemplo abaixo, veremos como se destacam os 10 consoles com mais títulos lançados no período destacado no DataFrame original."
      ]
    },
    {
      "cell_type": "code",
      "execution_count": null,
      "metadata": {
        "id": "J3dnKF4CowmD"
      },
      "outputs": [],
      "source": [
        "df['Plataforma'].value_counts().head(10).plot(kind='bar',figsize=(11,6),grid=False,rot=0,color='Red')\n",
        "plt.title('Os 10 Videogames com mais títulos lançados')\n",
        "plt.xlabel('Plataforma')\n",
        "plt.ylabel('Quantidade de jogos lançados')\n",
        "plt.show()"
      ]
    },
    {
      "cell_type": "code",
      "execution_count": null,
      "metadata": {
        "id": "mhOk5wT-p2NM"
      },
      "outputs": [],
      "source": [
        "top_10_vendas = df[['Nome','Vendas Global']].head(10).set_index('Nome').sort_values('Vendas Global', ascending=True)\n",
        "top_10_vendas.plot(kind='barh',figsize=(11,7),grid=False,color='darkred',legend=False)\n",
        "\n",
        "plt.title('Os 10 jogos mais vendidos do mundo')\n",
        "plt.xlabel('Total de vendas(em milhões de dólares)')\n",
        "plt.show()"
      ]
    },
    {
      "cell_type": "code",
      "execution_count": null,
      "metadata": {
        "id": "p1djtrU7rCmD"
      },
      "outputs": [],
      "source": [
        "top_10_plat = crosstab_vg[crosstab_vg['Total'] > 1000].sort_values('Total', ascending = False)\n",
        "top_10_final = top_10_plat.append(pd.DataFrame(top_10_plat.sum(), columns=['Total']).T,ignore_index=False)\n",
        "\n",
        "sns.set(font_scale=1)\n",
        "plt.figure(figsize=(18,9))\n",
        "sns.heatmap(top_10_final, annot=True, vmax=top_10_final.loc[:'PS',:'Strategy'].values.max(), vmin = top_10_final.loc[:,:'Strategy'].values.min(),fmt='d')\n",
        "plt.xlabel('GÊNERO')\n",
        "plt.ylabel('CONSOLE')\n",
        "plt.title('QUANTIDADE DE TÍTULOS POR GÊNERO E CONSOLE')\n",
        "plt.show()"
      ]
    },
    {
      "cell_type": "markdown",
      "metadata": {},
      "source": [
        "Preciso realizar a comparação entre as franquias mais populares no japão e nos eua"
      ]
    },
    {
      "cell_type": "code",
      "execution_count": 13,
      "metadata": {
        "id": "voAV9ZUL4A9B"
      },
      "outputs": [],
      "source": [
        "df2 = df"
      ]
    },
    {
      "cell_type": "code",
      "execution_count": 14,
      "metadata": {
        "id": "beb5VSpQ4N1_"
      },
      "outputs": [
        {
          "data": {
            "text/html": [
              "<div>\n",
              "<style scoped>\n",
              "    .dataframe tbody tr th:only-of-type {\n",
              "        vertical-align: middle;\n",
              "    }\n",
              "\n",
              "    .dataframe tbody tr th {\n",
              "        vertical-align: top;\n",
              "    }\n",
              "\n",
              "    .dataframe thead th {\n",
              "        text-align: right;\n",
              "    }\n",
              "</style>\n",
              "<table border=\"1\" class=\"dataframe\">\n",
              "  <thead>\n",
              "    <tr style=\"text-align: right;\">\n",
              "      <th></th>\n",
              "      <th>Ranking</th>\n",
              "      <th>Nome</th>\n",
              "      <th>Plataforma</th>\n",
              "      <th>Ano</th>\n",
              "      <th>Gênero</th>\n",
              "      <th>Editora</th>\n",
              "      <th>Vendas América do Norte</th>\n",
              "      <th>Vendas EUA</th>\n",
              "      <th>Vendas Japão</th>\n",
              "      <th>Outras vendas</th>\n",
              "      <th>Vendas Global</th>\n",
              "    </tr>\n",
              "  </thead>\n",
              "  <tbody>\n",
              "    <tr>\n",
              "      <th>0</th>\n",
              "      <td>1</td>\n",
              "      <td>Wii Sports</td>\n",
              "      <td>Wii</td>\n",
              "      <td>2006.0</td>\n",
              "      <td>Esporte</td>\n",
              "      <td>Nintendo</td>\n",
              "      <td>41.49</td>\n",
              "      <td>29.02</td>\n",
              "      <td>3.77</td>\n",
              "      <td>8.46</td>\n",
              "      <td>82.74</td>\n",
              "    </tr>\n",
              "    <tr>\n",
              "      <th>1</th>\n",
              "      <td>2</td>\n",
              "      <td>Super Mario Bros.</td>\n",
              "      <td>NES</td>\n",
              "      <td>1985.0</td>\n",
              "      <td>Plataforma</td>\n",
              "      <td>Nintendo</td>\n",
              "      <td>29.08</td>\n",
              "      <td>3.58</td>\n",
              "      <td>6.81</td>\n",
              "      <td>0.77</td>\n",
              "      <td>40.24</td>\n",
              "    </tr>\n",
              "    <tr>\n",
              "      <th>2</th>\n",
              "      <td>3</td>\n",
              "      <td>Mario Kart Wii</td>\n",
              "      <td>Wii</td>\n",
              "      <td>2008.0</td>\n",
              "      <td>Corrida</td>\n",
              "      <td>Nintendo</td>\n",
              "      <td>15.85</td>\n",
              "      <td>12.88</td>\n",
              "      <td>3.79</td>\n",
              "      <td>3.31</td>\n",
              "      <td>35.82</td>\n",
              "    </tr>\n",
              "    <tr>\n",
              "      <th>3</th>\n",
              "      <td>4</td>\n",
              "      <td>Wii Sports Resort</td>\n",
              "      <td>Wii</td>\n",
              "      <td>2009.0</td>\n",
              "      <td>Esporte</td>\n",
              "      <td>Nintendo</td>\n",
              "      <td>15.75</td>\n",
              "      <td>11.01</td>\n",
              "      <td>3.28</td>\n",
              "      <td>2.96</td>\n",
              "      <td>33.00</td>\n",
              "    </tr>\n",
              "    <tr>\n",
              "      <th>4</th>\n",
              "      <td>5</td>\n",
              "      <td>Pokemon Red/Pokemon Blue</td>\n",
              "      <td>GB</td>\n",
              "      <td>1996.0</td>\n",
              "      <td>RPG</td>\n",
              "      <td>Nintendo</td>\n",
              "      <td>11.27</td>\n",
              "      <td>8.89</td>\n",
              "      <td>10.22</td>\n",
              "      <td>1.00</td>\n",
              "      <td>31.37</td>\n",
              "    </tr>\n",
              "    <tr>\n",
              "      <th>...</th>\n",
              "      <td>...</td>\n",
              "      <td>...</td>\n",
              "      <td>...</td>\n",
              "      <td>...</td>\n",
              "      <td>...</td>\n",
              "      <td>...</td>\n",
              "      <td>...</td>\n",
              "      <td>...</td>\n",
              "      <td>...</td>\n",
              "      <td>...</td>\n",
              "      <td>...</td>\n",
              "    </tr>\n",
              "    <tr>\n",
              "      <th>16593</th>\n",
              "      <td>16596</td>\n",
              "      <td>Woody Woodpecker in Crazy Castle 5</td>\n",
              "      <td>GBA</td>\n",
              "      <td>2002.0</td>\n",
              "      <td>Plataforma</td>\n",
              "      <td>Kemco</td>\n",
              "      <td>0.01</td>\n",
              "      <td>0.00</td>\n",
              "      <td>0.00</td>\n",
              "      <td>0.00</td>\n",
              "      <td>0.01</td>\n",
              "    </tr>\n",
              "    <tr>\n",
              "      <th>16594</th>\n",
              "      <td>16597</td>\n",
              "      <td>Men in Black II: Alien Escape</td>\n",
              "      <td>GC</td>\n",
              "      <td>2003.0</td>\n",
              "      <td>Tiro</td>\n",
              "      <td>Infogrames</td>\n",
              "      <td>0.01</td>\n",
              "      <td>0.00</td>\n",
              "      <td>0.00</td>\n",
              "      <td>0.00</td>\n",
              "      <td>0.01</td>\n",
              "    </tr>\n",
              "    <tr>\n",
              "      <th>16595</th>\n",
              "      <td>16598</td>\n",
              "      <td>SCORE International Baja 1000: The Official Game</td>\n",
              "      <td>PS2</td>\n",
              "      <td>2008.0</td>\n",
              "      <td>Corrida</td>\n",
              "      <td>Activision</td>\n",
              "      <td>0.00</td>\n",
              "      <td>0.00</td>\n",
              "      <td>0.00</td>\n",
              "      <td>0.00</td>\n",
              "      <td>0.01</td>\n",
              "    </tr>\n",
              "    <tr>\n",
              "      <th>16596</th>\n",
              "      <td>16599</td>\n",
              "      <td>Know How 2</td>\n",
              "      <td>DS</td>\n",
              "      <td>2010.0</td>\n",
              "      <td>Puzzle</td>\n",
              "      <td>7G//AMES</td>\n",
              "      <td>0.00</td>\n",
              "      <td>0.01</td>\n",
              "      <td>0.00</td>\n",
              "      <td>0.00</td>\n",
              "      <td>0.01</td>\n",
              "    </tr>\n",
              "    <tr>\n",
              "      <th>16597</th>\n",
              "      <td>16600</td>\n",
              "      <td>Spirits &amp; Spells</td>\n",
              "      <td>GBA</td>\n",
              "      <td>2003.0</td>\n",
              "      <td>Plataforma</td>\n",
              "      <td>Wanadoo</td>\n",
              "      <td>0.01</td>\n",
              "      <td>0.00</td>\n",
              "      <td>0.00</td>\n",
              "      <td>0.00</td>\n",
              "      <td>0.01</td>\n",
              "    </tr>\n",
              "  </tbody>\n",
              "</table>\n",
              "<p>16598 rows × 11 columns</p>\n",
              "</div>"
            ],
            "text/plain": [
              "       Ranking                                              Nome Plataforma  \\\n",
              "0            1                                        Wii Sports        Wii   \n",
              "1            2                                 Super Mario Bros.        NES   \n",
              "2            3                                    Mario Kart Wii        Wii   \n",
              "3            4                                 Wii Sports Resort        Wii   \n",
              "4            5                          Pokemon Red/Pokemon Blue         GB   \n",
              "...        ...                                               ...        ...   \n",
              "16593    16596                Woody Woodpecker in Crazy Castle 5        GBA   \n",
              "16594    16597                     Men in Black II: Alien Escape         GC   \n",
              "16595    16598  SCORE International Baja 1000: The Official Game        PS2   \n",
              "16596    16599                                        Know How 2         DS   \n",
              "16597    16600                                  Spirits & Spells        GBA   \n",
              "\n",
              "          Ano      Gênero     Editora  Vendas América do Norte  Vendas EUA  \\\n",
              "0      2006.0     Esporte    Nintendo                    41.49       29.02   \n",
              "1      1985.0  Plataforma    Nintendo                    29.08        3.58   \n",
              "2      2008.0     Corrida    Nintendo                    15.85       12.88   \n",
              "3      2009.0     Esporte    Nintendo                    15.75       11.01   \n",
              "4      1996.0         RPG    Nintendo                    11.27        8.89   \n",
              "...       ...         ...         ...                      ...         ...   \n",
              "16593  2002.0  Plataforma       Kemco                     0.01        0.00   \n",
              "16594  2003.0        Tiro  Infogrames                     0.01        0.00   \n",
              "16595  2008.0     Corrida  Activision                     0.00        0.00   \n",
              "16596  2010.0      Puzzle    7G//AMES                     0.00        0.01   \n",
              "16597  2003.0  Plataforma     Wanadoo                     0.01        0.00   \n",
              "\n",
              "       Vendas Japão  Outras vendas  Vendas Global  \n",
              "0              3.77           8.46          82.74  \n",
              "1              6.81           0.77          40.24  \n",
              "2              3.79           3.31          35.82  \n",
              "3              3.28           2.96          33.00  \n",
              "4             10.22           1.00          31.37  \n",
              "...             ...            ...            ...  \n",
              "16593          0.00           0.00           0.01  \n",
              "16594          0.00           0.00           0.01  \n",
              "16595          0.00           0.00           0.01  \n",
              "16596          0.00           0.00           0.01  \n",
              "16597          0.00           0.00           0.01  \n",
              "\n",
              "[16598 rows x 11 columns]"
            ]
          },
          "execution_count": 14,
          "metadata": {},
          "output_type": "execute_result"
        }
      ],
      "source": [
        "df2"
      ]
    },
    {
      "cell_type": "code",
      "execution_count": null,
      "metadata": {
        "colab": {
          "base_uri": "https://localhost:8080/",
          "height": 589
        },
        "id": "jk955B7JvXDR",
        "outputId": "73deb482-deac-482a-9afa-0b0f3d89fe3d"
      },
      "outputs": [],
      "source": [
        "df.sort_values('Ano')"
      ]
    },
    {
      "cell_type": "code",
      "execution_count": null,
      "metadata": {},
      "outputs": [
        {
          "data": {
            "text/html": [
              "<div>\n",
              "<style scoped>\n",
              "    .dataframe tbody tr th:only-of-type {\n",
              "        vertical-align: middle;\n",
              "    }\n",
              "\n",
              "    .dataframe tbody tr th {\n",
              "        vertical-align: top;\n",
              "    }\n",
              "\n",
              "    .dataframe thead th {\n",
              "        text-align: right;\n",
              "    }\n",
              "</style>\n",
              "<table border=\"1\" class=\"dataframe\">\n",
              "  <thead>\n",
              "    <tr style=\"text-align: right;\">\n",
              "      <th></th>\n",
              "      <th>Ranking</th>\n",
              "      <th>Nome</th>\n",
              "      <th>Plataforma</th>\n",
              "      <th>Ano</th>\n",
              "      <th>Gênero</th>\n",
              "      <th>Editora</th>\n",
              "      <th>Vendas América do Norte</th>\n",
              "      <th>Vendas EUA</th>\n",
              "      <th>Vendas Japão</th>\n",
              "      <th>Outras vendas</th>\n",
              "      <th>Vendas Global</th>\n",
              "    </tr>\n",
              "  </thead>\n",
              "  <tbody>\n",
              "    <tr>\n",
              "      <th>5957</th>\n",
              "      <td>5959</td>\n",
              "      <td>Imagine: Makeup Artist</td>\n",
              "      <td>DS</td>\n",
              "      <td>2020.0</td>\n",
              "      <td>Simulação</td>\n",
              "      <td>Ubisoft</td>\n",
              "      <td>0.27</td>\n",
              "      <td>0.00</td>\n",
              "      <td>0.00</td>\n",
              "      <td>0.02</td>\n",
              "      <td>0.29</td>\n",
              "    </tr>\n",
              "    <tr>\n",
              "      <th>14390</th>\n",
              "      <td>14393</td>\n",
              "      <td>Phantasy Star Online 2 Episode 4: Deluxe Package</td>\n",
              "      <td>PS4</td>\n",
              "      <td>2017.0</td>\n",
              "      <td>RPG</td>\n",
              "      <td>Sega</td>\n",
              "      <td>0.00</td>\n",
              "      <td>0.00</td>\n",
              "      <td>0.03</td>\n",
              "      <td>0.00</td>\n",
              "      <td>0.03</td>\n",
              "    </tr>\n",
              "    <tr>\n",
              "      <th>16241</th>\n",
              "      <td>16244</td>\n",
              "      <td>Phantasy Star Online 2 Episode 4: Deluxe Package</td>\n",
              "      <td>PSV</td>\n",
              "      <td>2017.0</td>\n",
              "      <td>RPG</td>\n",
              "      <td>Sega</td>\n",
              "      <td>0.00</td>\n",
              "      <td>0.00</td>\n",
              "      <td>0.01</td>\n",
              "      <td>0.00</td>\n",
              "      <td>0.01</td>\n",
              "    </tr>\n",
              "    <tr>\n",
              "      <th>16438</th>\n",
              "      <td>16441</td>\n",
              "      <td>Brothers Conflict: Precious Baby</td>\n",
              "      <td>PSV</td>\n",
              "      <td>2017.0</td>\n",
              "      <td>Ação</td>\n",
              "      <td>Idea Factory</td>\n",
              "      <td>0.00</td>\n",
              "      <td>0.00</td>\n",
              "      <td>0.01</td>\n",
              "      <td>0.00</td>\n",
              "      <td>0.01</td>\n",
              "    </tr>\n",
              "    <tr>\n",
              "      <th>8293</th>\n",
              "      <td>8295</td>\n",
              "      <td>Shin Megami Tensei IV: Final</td>\n",
              "      <td>3DS</td>\n",
              "      <td>2016.0</td>\n",
              "      <td>RPG</td>\n",
              "      <td>Deep Silver</td>\n",
              "      <td>0.03</td>\n",
              "      <td>0.00</td>\n",
              "      <td>0.14</td>\n",
              "      <td>0.00</td>\n",
              "      <td>0.17</td>\n",
              "    </tr>\n",
              "    <tr>\n",
              "      <th>...</th>\n",
              "      <td>...</td>\n",
              "      <td>...</td>\n",
              "      <td>...</td>\n",
              "      <td>...</td>\n",
              "      <td>...</td>\n",
              "      <td>...</td>\n",
              "      <td>...</td>\n",
              "      <td>...</td>\n",
              "      <td>...</td>\n",
              "      <td>...</td>\n",
              "      <td>...</td>\n",
              "    </tr>\n",
              "    <tr>\n",
              "      <th>16307</th>\n",
              "      <td>16310</td>\n",
              "      <td>Freaky Flyers</td>\n",
              "      <td>GC</td>\n",
              "      <td>NaN</td>\n",
              "      <td>Corrida</td>\n",
              "      <td>Unknown</td>\n",
              "      <td>0.01</td>\n",
              "      <td>0.00</td>\n",
              "      <td>0.00</td>\n",
              "      <td>0.00</td>\n",
              "      <td>0.01</td>\n",
              "    </tr>\n",
              "    <tr>\n",
              "      <th>16327</th>\n",
              "      <td>16330</td>\n",
              "      <td>Inversion</td>\n",
              "      <td>PC</td>\n",
              "      <td>NaN</td>\n",
              "      <td>Tiro</td>\n",
              "      <td>Namco Bandai Games</td>\n",
              "      <td>0.01</td>\n",
              "      <td>0.00</td>\n",
              "      <td>0.00</td>\n",
              "      <td>0.00</td>\n",
              "      <td>0.01</td>\n",
              "    </tr>\n",
              "    <tr>\n",
              "      <th>16366</th>\n",
              "      <td>16369</td>\n",
              "      <td>Hakuouki: Shinsengumi Kitan</td>\n",
              "      <td>PS3</td>\n",
              "      <td>NaN</td>\n",
              "      <td>Aventura</td>\n",
              "      <td>Unknown</td>\n",
              "      <td>0.01</td>\n",
              "      <td>0.00</td>\n",
              "      <td>0.00</td>\n",
              "      <td>0.00</td>\n",
              "      <td>0.01</td>\n",
              "    </tr>\n",
              "    <tr>\n",
              "      <th>16427</th>\n",
              "      <td>16430</td>\n",
              "      <td>Virtua Quest</td>\n",
              "      <td>GC</td>\n",
              "      <td>NaN</td>\n",
              "      <td>RPG</td>\n",
              "      <td>Unknown</td>\n",
              "      <td>0.01</td>\n",
              "      <td>0.00</td>\n",
              "      <td>0.00</td>\n",
              "      <td>0.00</td>\n",
              "      <td>0.01</td>\n",
              "    </tr>\n",
              "    <tr>\n",
              "      <th>16493</th>\n",
              "      <td>16496</td>\n",
              "      <td>The Smurfs</td>\n",
              "      <td>3DS</td>\n",
              "      <td>NaN</td>\n",
              "      <td>Ação</td>\n",
              "      <td>Unknown</td>\n",
              "      <td>0.00</td>\n",
              "      <td>0.01</td>\n",
              "      <td>0.00</td>\n",
              "      <td>0.00</td>\n",
              "      <td>0.01</td>\n",
              "    </tr>\n",
              "  </tbody>\n",
              "</table>\n",
              "<p>16598 rows × 11 columns</p>\n",
              "</div>"
            ],
            "text/plain": [
              "       Ranking                                              Nome Plataforma  \\\n",
              "5957      5959                            Imagine: Makeup Artist         DS   \n",
              "14390    14393  Phantasy Star Online 2 Episode 4: Deluxe Package        PS4   \n",
              "16241    16244  Phantasy Star Online 2 Episode 4: Deluxe Package        PSV   \n",
              "16438    16441                  Brothers Conflict: Precious Baby        PSV   \n",
              "8293      8295                      Shin Megami Tensei IV: Final        3DS   \n",
              "...        ...                                               ...        ...   \n",
              "16307    16310                                     Freaky Flyers         GC   \n",
              "16327    16330                                         Inversion         PC   \n",
              "16366    16369                       Hakuouki: Shinsengumi Kitan        PS3   \n",
              "16427    16430                                      Virtua Quest         GC   \n",
              "16493    16496                                        The Smurfs        3DS   \n",
              "\n",
              "          Ano     Gênero             Editora  Vendas América do Norte  \\\n",
              "5957   2020.0  Simulação             Ubisoft                     0.27   \n",
              "14390  2017.0        RPG                Sega                     0.00   \n",
              "16241  2017.0        RPG                Sega                     0.00   \n",
              "16438  2017.0       Ação        Idea Factory                     0.00   \n",
              "8293   2016.0        RPG         Deep Silver                     0.03   \n",
              "...       ...        ...                 ...                      ...   \n",
              "16307     NaN    Corrida             Unknown                     0.01   \n",
              "16327     NaN       Tiro  Namco Bandai Games                     0.01   \n",
              "16366     NaN   Aventura             Unknown                     0.01   \n",
              "16427     NaN        RPG             Unknown                     0.01   \n",
              "16493     NaN       Ação             Unknown                     0.00   \n",
              "\n",
              "       Vendas EUA  Vendas Japão  Outras vendas  Vendas Global  \n",
              "5957         0.00          0.00           0.02           0.29  \n",
              "14390        0.00          0.03           0.00           0.03  \n",
              "16241        0.00          0.01           0.00           0.01  \n",
              "16438        0.00          0.01           0.00           0.01  \n",
              "8293         0.00          0.14           0.00           0.17  \n",
              "...           ...           ...            ...            ...  \n",
              "16307        0.00          0.00           0.00           0.01  \n",
              "16327        0.00          0.00           0.00           0.01  \n",
              "16366        0.00          0.00           0.00           0.01  \n",
              "16427        0.00          0.00           0.00           0.01  \n",
              "16493        0.01          0.00           0.00           0.01  \n",
              "\n",
              "[16598 rows x 11 columns]"
            ]
          },
          "execution_count": 18,
          "metadata": {},
          "output_type": "execute_result"
        }
      ],
      "source": [
        "df.sort_values('Ano',ascending=False)"
      ]
    }
  ],
  "metadata": {
    "colab": {
      "name": "vendas_videogames.ipynb",
      "provenance": [],
      "toc_visible": true
    },
    "kernelspec": {
      "display_name": "Python 3",
      "name": "python3"
    },
    "language_info": {
      "codemirror_mode": {
        "name": "ipython",
        "version": 3
      },
      "file_extension": ".py",
      "mimetype": "text/x-python",
      "name": "python",
      "nbconvert_exporter": "python",
      "pygments_lexer": "ipython3",
      "version": "3.10.2"
    }
  },
  "nbformat": 4,
  "nbformat_minor": 0
}
